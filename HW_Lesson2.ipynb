{
 "cells": [
  {
   "cell_type": "markdown",
   "metadata": {},
   "source": [
    "## <center> Практическое задание к лекции №2"
   ]
  },
  {
   "cell_type": "markdown",
   "metadata": {},
   "source": [
    "**1.** Сгенерировать датасет при помощи *sklearn.datasets.make_regression* и\n",
    "обучить линейную модель при помощи градиентного и стохастического градиентного\n",
    "спуска. Нанести среднеквадратичную ошибку для обоих методов на один график,\n",
    "сделать выводы о разнице скорости сходимости каждого из методов."
   ]
  },
  {
   "cell_type": "code",
   "execution_count": 1,
   "metadata": {
    "pycharm": {
     "name": "#%%\n"
    }
   },
   "outputs": [],
   "source": [
    "import numpy as np\n",
    "import pandas as pd\n",
    "import matplotlib.pyplot as plt\n",
    "from sklearn.datasets import make_regression\n",
    "\n",
    "%matplotlib inline"
   ]
  },
  {
   "cell_type": "code",
   "execution_count": 2,
   "metadata": {
    "pycharm": {
     "name": "#%%\n"
    }
   },
   "outputs": [],
   "source": [
    "X, y, W_default = make_regression(\n",
    "    n_features=10,\n",
    "    bias=3.5,\n",
    "    noise=1.2,\n",
    "    coef=True,\n",
    "    random_state=42\n",
    ")"
   ]
  },
  {
   "cell_type": "markdown",
   "metadata": {},
   "source": [
    "Вектор весов данной модели"
   ]
  },
  {
   "cell_type": "code",
   "execution_count": 3,
   "metadata": {
    "pycharm": {
     "name": "#%%\n"
    }
   },
   "outputs": [
    {
     "data": {
      "text/plain": [
       "array([16.74825823, 54.12963353,  5.19712837, 63.64302495, 93.62122462,\n",
       "       70.64757265, 87.09691237, 10.45678403,  3.15861448, 70.90605195])"
      ]
     },
     "execution_count": 3,
     "metadata": {},
     "output_type": "execute_result"
    }
   ],
   "source": [
    "W_default"
   ]
  },
  {
   "cell_type": "markdown",
   "metadata": {},
   "source": [
    "Расчитаем предсказания модели"
   ]
  },
  {
   "cell_type": "code",
   "execution_count": 4,
   "metadata": {
    "pycharm": {
     "name": "#%%\n"
    },
    "scrolled": true
   },
   "outputs": [],
   "source": [
    "y_pred_default = X @ W_default\n"
   ]
  },
  {
   "cell_type": "markdown",
   "metadata": {},
   "source": [
    "Посчитаем $MSE$"
   ]
  },
  {
   "cell_type": "code",
   "execution_count": 5,
   "metadata": {
    "pycharm": {
     "name": "#%%\n"
    }
   },
   "outputs": [],
   "source": [
    "def calc_mse(y, y_pred):\n",
    "    err = np.mean((y - y_pred) ** 2)\n",
    "    return err"
   ]
  },
  {
   "cell_type": "code",
   "execution_count": 6,
   "metadata": {
    "pycharm": {
     "name": "#%%\n"
    }
   },
   "outputs": [
    {
     "data": {
      "text/plain": [
       "14.867688515340427"
      ]
     },
     "execution_count": 6,
     "metadata": {},
     "output_type": "execute_result"
    }
   ],
   "source": [
    "mse_default = calc_mse(y, y_pred_default)\n",
    "mse_default"
   ]
  },
  {
   "cell_type": "markdown",
   "metadata": {},
   "source": [
    "Попробуем оптимизировать модель при помощи градиентного спуска: "
   ]
  },
  {
   "cell_type": "code",
   "execution_count": 7,
   "metadata": {
    "pycharm": {
     "name": "#%%\n"
    }
   },
   "outputs": [],
   "source": [
    "def my_grad_desc(X, y, alpha=1e-04, verbose=False, tol=0.0):\n",
    "    '''\n",
    "    :param X: features array\n",
    "    :param y: target array\n",
    "    :param alpha: learning rate, float default=1e-04\n",
    "    :param verbose: prints progress and performance once in a while, bool default False\n",
    "    :param tol: when mse is not improving by at least tol, the searching stops, float default 0.0\n",
    "    :return: weights array, mse\n",
    "\n",
    "    '''\n",
    "    n = X.shape[0]\n",
    "    W = np.random.randn(X.shape[1], )  # задаём начальное значение весов\n",
    "    min_err = float('inf')  #начальное значение ошибки модели - бесконечность\n",
    "    n_iter = 0  # отслеживаем количество итераций\n",
    "    stop_chek = True  #будем чекать снижение ошибки\n",
    "    errors = []  # добавлено для визуализации кривой обучения\n",
    "    while stop_chek:\n",
    "        n_iter += 1\n",
    "        y_pred = W @ X.T\n",
    "        err = calc_mse(y, y_pred)\n",
    "        errors.append(err)\n",
    "        if min_err - err > tol:  # контролируем текущее значение ошибки\n",
    "            min_err = err\n",
    "        else:  # если снижение прекратилось, останавливаемся.\n",
    "            print(\n",
    "                f'Stop descent! iteration: {n_iter}, weights: {W}, mse: {min_err}')\n",
    "            stop_chek = False\n",
    "        W -= alpha * (1 / n * 2 * np.sum(X.T * (y_pred - y), axis=1))\n",
    "        if verbose:\n",
    "            if n_iter % 100 == 0:\n",
    "                print(n_iter, W, err)\n",
    "    return W, min_err, errors"
   ]
  },
  {
   "cell_type": "code",
   "execution_count": 8,
   "metadata": {
    "pycharm": {
     "name": "#%%\n"
    }
   },
   "outputs": [
    {
     "name": "stdout",
     "output_type": "stream",
     "text": [
      "Stop descent! iteration: 6758, weights: [17.01896177 54.46995498  4.75434447 63.3095936  93.3978157  71.04151554\n",
      " 86.98596203 10.23657342  3.51120877 70.8121323 ], mse: 14.301231033265985\n"
     ]
    }
   ],
   "source": [
    "W_1, mse_1, score_1 = my_grad_desc(X, y, alpha=0.001, tol=0.00001)"
   ]
  },
  {
   "cell_type": "markdown",
   "metadata": {},
   "source": [
    "Реализуем $SGD$:"
   ]
  },
  {
   "cell_type": "code",
   "execution_count": 9,
   "metadata": {
    "pycharm": {
     "name": "#%%\n"
    }
   },
   "outputs": [],
   "source": [
    "def my_sgd(X, y, alpha=1e-04, batch_size=1, n_epoch=1e+06, verbose=False, tol=0.0):\n",
    "    '''\n",
    "    :param X: features array\n",
    "    :param y: target array\n",
    "    :param alpha: learning rate, float default 1e-04\n",
    "    :param batch_size: bath_size, int default 1\n",
    "    :param n_epoh: number of training epochs, int default 1e+06\n",
    "    :param verbose: prints progress and performance once in a while, bool default False\n",
    "    :param tol: when mse is not improving by at least tol, the searching stops, float default 0.0\n",
    "    :return: weights array, mse\n",
    "    the function stops when the tol or n_epoch parameter is reached\n",
    "    \n",
    "    '''\n",
    "    n = X.shape[0]\n",
    "    W = np.random.randn(X.shape[1], )  # задаём начальное значение весов\n",
    "    n_batch = n // batch_size  # определяем количество батчей\n",
    "    if n % batch_size != 0:\n",
    "        n_batch += 1\n",
    "    min_err = float('inf')  #начальное значение ошибки модели - бесконечность\n",
    "    n_iter = 0  # отслеживаем количество итераций\n",
    "    stop_chek = True  #будем чекать снижение ошибки\n",
    "    errors = []  # добавлено для визуализации кривой обучения\n",
    "    while stop_chek:\n",
    "        n_iter += 1\n",
    "        for b in range(n_batch):\n",
    "            start_ = batch_size * b\n",
    "            end_ = batch_size * (b + 1)\n",
    "            X_tmp = X.T[:, start_: end_]\n",
    "            y_tmp = y[start_: end_]\n",
    "            y_pred = W @ X_tmp\n",
    "            err = calc_mse(y_tmp, y_pred)\n",
    "            W -= alpha * (1 / n * 2 * (y_pred - y_tmp) @ X_tmp.T)\n",
    "        errors.append(err)\n",
    "        if verbose:\n",
    "            if n_iter % 1000 == 0:\n",
    "                print(n_iter, W, err)\n",
    "        if n_iter==n_epoch:                      # остановка по достижении n_epoch\n",
    "            print(\n",
    "                f'Stop descent! n_epoch: {n_iter}, weights: {W}, mse: {min_err}')\n",
    "            stop_chek = False\n",
    "        if np.abs(min_err - err) > tol:          # контролируем текущее значение ошибки\n",
    "            min_err = err if err<=min_err else min_err\n",
    "        else:                                    # остановка по достижении tol\n",
    "            print(\n",
    "                f'Stop descent! n_epoch: {n_iter}, weights: {W}, mse: {min_err}')\n",
    "            stop_chek = False\n",
    "        \n",
    "    return W, min_err, errors"
   ]
  },
  {
   "cell_type": "code",
   "execution_count": 10,
   "metadata": {
    "pycharm": {
     "name": "#%%\n"
    }
   },
   "outputs": [
    {
     "name": "stdout",
     "output_type": "stream",
     "text": [
      "Stop descent! n_epoch: 5553, weights: [17.03583153 54.51781792  4.68827051 63.30918299 93.33320565 71.12379768\n",
      " 86.89720283 10.13787959  3.53811429 70.69995989], mse: 11.00119612811094\n"
     ]
    }
   ],
   "source": [
    "W_2, mse_2, score_2 = my_sgd(X, y, alpha=0.001, batch_size=1, n_epoch=8000, tol=0.00001)"
   ]
  },
  {
   "cell_type": "code",
   "execution_count": 11,
   "metadata": {
    "pycharm": {
     "name": "#%%\n"
    },
    "scrolled": true
   },
   "outputs": [
    {
     "data": {
      "image/png": "[encoded data removed]",
      "text/plain": [
       "<Figure size 1152x720 with 1 Axes>"
      ]
     },
     "metadata": {
      "needs_background": "light"
     },
     "output_type": "display_data"
    }
   ],
   "source": [
    "plt.figure(figsize=(16, 10))\n",
    "plt.ylim((0,2000))\n",
    "plt.xlim((0,len(score_1)-1000))\n",
    "plt.plot([x for x in range(len(score_1))], score_1, label='GD-method')\n",
    "plt.plot([x for x in range(len(score_2))], score_2, c='r', label='SGD-method')\n",
    "plt.axhline(mse_default, c='gray', ls='--', label=r'calculated indicator $MSE$', mew=0.9)\n",
    "plt.xlabel('iteratoin number')\n",
    "plt.xticks(list(plt.xticks()[0])+[len(score_1), len(score_2)])\n",
    "plt.ylabel(r'$MSE$')\n",
    "plt.legend()\n",
    "plt.show()"
   ]
  },
  {
   "cell_type": "code",
   "execution_count": 33,
   "metadata": {},
   "outputs": [
    {
     "data": {
      "text/plain": [
       "6814"
      ]
     },
     "execution_count": 33,
     "metadata": {},
     "output_type": "execute_result"
    }
   ],
   "source": [
    "len(score_1)"
   ]
  },
  {
   "cell_type": "markdown",
   "metadata": {},
   "source": [
    "На основании графиков можно сделать вывод что примерно до 800-й итерации $SGD$ 'расходился'(значение $MSE$ росло), затем, до уроня 2300-2400 итераций оба алгоритма сходились, при этом скорость схождения $GD$ была выше, чем у $SGD$. Однако затем скорости уравнялись, и $SGD$ сошелся раньше чем $GD$ (5538 итераций против 6746).  \n",
    "\n",
    "---"
   ]
  },
  {
   "cell_type": "markdown",
   "metadata": {},
   "source": [
    "**2.** Модифицировать решение первого задания путем добавления 𝐿2 -регуляризации (в функцию, считающую MSE, нужно добавить норму вектора весов) и сравнить результаты."
   ]
  },
  {
   "cell_type": "code",
   "execution_count": 12,
   "metadata": {},
   "outputs": [],
   "source": [
    "# L2 (Евклидова) норма вектора\n",
    "def euclid(vec):\n",
    "    norm=0\n",
    "    for i in vec:\n",
    "        norm+=i**2\n",
    "    return norm**0.5"
   ]
  },
  {
   "cell_type": "markdown",
   "metadata": {},
   "source": [
    "Подкорректируем функции $GD$ и $SGD$:"
   ]
  },
  {
   "cell_type": "code",
   "execution_count": 13,
   "metadata": {},
   "outputs": [],
   "source": [
    "def my_grad_desc_reg(X, y, alpha=1e-04, verbose=False, tol=0.0, lambda_=0.0):\n",
    "    '''\n",
    "    added L2 regularization\n",
    "    :param X: features array\n",
    "    :param y: target array\n",
    "    :param alpha: learning rate, float default 1e-04\n",
    "    :param verbose: prints progress and performance once in a while, bool default False\n",
    "    :param tol: when mse is not improving by at least tol, the searching stops, float default 0.0\n",
    "    :param lambda_: regularization factor float default 0.0 \n",
    "    :return: weights array, mse\n",
    "\n",
    "    '''\n",
    "    n = X.shape[0]\n",
    "    W = np.random.randn(X.shape[1], )  # задаём начальное значение весов\n",
    "    min_err = float('inf')  #начальное значение ошибки модели - бесконечность\n",
    "    n_iter = 0  # отслеживаем количество итераций\n",
    "    stop_chek = True  #будем чекать снижение ошибки\n",
    "    errors = []  # добавлено для визуализации кривой обучения\n",
    "    while stop_chek:\n",
    "        n_iter += 1\n",
    "        y_pred = W @ X.T\n",
    "        err = calc_mse(y, y_pred)+lambda_*euclid(W) # добавляем в расчет ошибки фактор L2 регуляризации\n",
    "        errors.append(err)\n",
    "        if min_err - err > tol:  # контролируем текущее значение ошибки\n",
    "            min_err = err\n",
    "        else:  # если снижение прекратилось, останавливаемся.\n",
    "            print(\n",
    "                f'Stop descent! iteration: {n_iter}, weights: {W}, mse: {min_err}')\n",
    "            stop_chek = False\n",
    "        W -= alpha * (1 / n * 2 * np.sum(X.T * (y_pred - y), axis=1))+lambda_*W # добавим коэфф. лямбда для расчёта весов\n",
    "        if verbose:\n",
    "            if n_iter % 1000 == 0:\n",
    "                print(n_iter, W, err)\n",
    "    return W, min_err, errors"
   ]
  },
  {
   "cell_type": "code",
   "execution_count": 77,
   "metadata": {},
   "outputs": [
    {
     "name": "stdout",
     "output_type": "stream",
     "text": [
      "Stop descent! iteration: 6768, weights: [17.01876679 54.47004244  4.75431108 63.30967932 93.39786656 71.04151742\n",
      " 86.98586103 10.23650472  3.5112034  70.81216766], mse: 14.301255186221365\n"
     ]
    }
   ],
   "source": [
    "W_3, mse_3, score_3 = my_grad_desc_reg(X, y, alpha=0.001, tol=0.00001, lambda_=0.0000001)"
   ]
  },
  {
   "cell_type": "code",
   "execution_count": 21,
   "metadata": {},
   "outputs": [],
   "source": [
    "def my_sgd_reg(X, y, alpha=1e-04, batch_size=1, n_epoch=1e+06, verbose=False, tol=0.0, lambda_=0.0):\n",
    "    '''\n",
    "    added L2 regularization\n",
    "    :param X: features array\n",
    "    :param y: target array\n",
    "    :param alpha: learning rate, float default=1e-04\n",
    "    :param batch_size: bath_size, int default=1\n",
    "    :param n_epoh: number of training epochs, int default=1e+06\n",
    "    :param verbose: prints progress and performance once in a while, bool default False\n",
    "    :param tol: when mse is not improving by at least tol, the searching stops, float default 0.0\n",
    "    :param lambda_: regularization factor float default 0.0\n",
    "    :return: weights array, mse\n",
    "    the function stops when the tol or n_epoch parameter is reached\n",
    "    \n",
    "    '''\n",
    "    n = X.shape[0]\n",
    "    W = np.random.randn(X.shape[1], )  # задаём начальное значение весов\n",
    "    n_batch = n // batch_size  # определяем количество батчей\n",
    "    if n % batch_size != 0:\n",
    "        n_batch += 1\n",
    "    min_err = float('inf')  #начальное значение ошибки модели - бесконечность\n",
    "    n_iter = 0  # отслеживаем количество итераций\n",
    "    stop_chek = True  #будем чекать снижение ошибки\n",
    "    errors = []  # добавлено для визуализации кривой обучения\n",
    "    while stop_chek:\n",
    "        n_iter += 1\n",
    "        for b in range(n_batch):\n",
    "            start_ = batch_size * b\n",
    "            end_ = batch_size * (b + 1)\n",
    "            X_tmp = X.T[:, start_: end_]\n",
    "            y_tmp = y[start_: end_]\n",
    "            y_pred = W @ X_tmp\n",
    "            err = calc_mse(y_tmp, y_pred)+lambda_*euclid(W) # добавляем в расчет ошибки фактор L2 регуляризации\n",
    "            W -= alpha * (1 / n * 2 * (y_pred - y_tmp) @ X_tmp.T)+lambda_*W\n",
    "        errors.append(err)\n",
    "        if verbose:\n",
    "            if n_iter % 1000 == 0:\n",
    "                print(n_iter, W, err)\n",
    "        if n_iter==n_epoch:                      # остановка по достижении n_epoch\n",
    "            print(\n",
    "                f'Stop descent! n_epoch: {n_iter}, weights: {W}, mse: {min_err}')\n",
    "            stop_chek = False\n",
    "        if np.abs(min_err - err) > tol:          # контролируем текущее значение ошибки\n",
    "            min_err = err if err<=min_err else min_err\n",
    "        else:                                    # остановка по достижении tol\n",
    "            print(\n",
    "                f'Stop descent! n_epoch: {n_iter}, weights: {W}, mse: {min_err}')\n",
    "            stop_chek = False\n",
    "        \n",
    "    return W, min_err, errors"
   ]
  },
  {
   "cell_type": "code",
   "execution_count": 76,
   "metadata": {
    "scrolled": true
   },
   "outputs": [
    {
     "name": "stdout",
     "output_type": "stream",
     "text": [
      "Stop descent! n_epoch: 5540, weights: [17.03628777 54.51818627  4.68774069 63.30861586 93.33201562 71.12465531\n",
      " 86.89596676 10.13674808  3.538638   70.69795456], mse: 11.00417924852887\n"
     ]
    }
   ],
   "source": [
    "W_4, mse_4, score_4 = my_sgd_reg(X, y, alpha=0.001, batch_size=1, n_epoch=8000, tol=0.00001, lambda_=0.0000001)"
   ]
  },
  {
   "cell_type": "markdown",
   "metadata": {},
   "source": [
    "Сравним полученные результаты:"
   ]
  },
  {
   "cell_type": "code",
   "execution_count": 49,
   "metadata": {},
   "outputs": [
    {
     "data": {
      "text/html": [
       "<div>\n",
       "<style scoped>\n",
       "    .dataframe tbody tr th:only-of-type {\n",
       "        vertical-align: middle;\n",
       "    }\n",
       "\n",
       "    .dataframe tbody tr th {\n",
       "        vertical-align: top;\n",
       "    }\n",
       "\n",
       "    .dataframe thead th {\n",
       "        text-align: right;\n",
       "    }\n",
       "</style>\n",
       "<table border=\"1\" class=\"dataframe\">\n",
       "  <thead>\n",
       "    <tr style=\"text-align: right;\">\n",
       "      <th></th>\n",
       "      <th>methods</th>\n",
       "      <th>$\\lambda$-coeff</th>\n",
       "      <th>tol-value</th>\n",
       "      <th>iterations</th>\n",
       "      <th>err-value</th>\n",
       "    </tr>\n",
       "  </thead>\n",
       "  <tbody>\n",
       "    <tr>\n",
       "      <th>0</th>\n",
       "      <td>GD</td>\n",
       "      <td>NaN</td>\n",
       "      <td>0.00001</td>\n",
       "      <td>6758</td>\n",
       "      <td>14.301221</td>\n",
       "    </tr>\n",
       "    <tr>\n",
       "      <th>1</th>\n",
       "      <td>SGD</td>\n",
       "      <td>NaN</td>\n",
       "      <td>0.00001</td>\n",
       "      <td>5553</td>\n",
       "      <td>11.001186</td>\n",
       "    </tr>\n",
       "    <tr>\n",
       "      <th>2</th>\n",
       "      <td>GD + L2</td>\n",
       "      <td>0.001</td>\n",
       "      <td>0.00001</td>\n",
       "      <td>9979</td>\n",
       "      <td>110.517084</td>\n",
       "    </tr>\n",
       "    <tr>\n",
       "      <th>3</th>\n",
       "      <td>SGD + L2</td>\n",
       "      <td>0.001</td>\n",
       "      <td>0.00001</td>\n",
       "      <td>8000</td>\n",
       "      <td>387.209633</td>\n",
       "    </tr>\n",
       "  </tbody>\n",
       "</table>\n",
       "</div>"
      ],
      "text/plain": [
       "    methods  $\\lambda$-coeff  tol-value  iterations   err-value\n",
       "0        GD              NaN    0.00001        6758   14.301221\n",
       "1       SGD              NaN    0.00001        5553   11.001186\n",
       "2   GD + L2            0.001    0.00001        9979  110.517084\n",
       "3  SGD + L2            0.001    0.00001        8000  387.209633"
      ]
     },
     "execution_count": 49,
     "metadata": {},
     "output_type": "execute_result"
    }
   ],
   "source": [
    "df=pd.DataFrame(\n",
    "    {\n",
    "        'methods':['GD', 'SGD','GD + L2','SGD + L2'],\n",
    "        r'$\\lambda$-coeff':[None,None,0.001,0.001],\n",
    "        'tol-value': 0.00001,\n",
    "        'iterations': [len(it) for it in [score_1, score_2, score_3,score_4]],\n",
    "        'err-value': [it[-1] for it in [score_1, score_2, score_3,score_4]]\n",
    "    }\n",
    ")\n",
    "df"
   ]
  },
  {
   "cell_type": "markdown",
   "metadata": {},
   "source": [
    "Сравним изменение весов:"
   ]
  },
  {
   "cell_type": "code",
   "execution_count": 53,
   "metadata": {},
   "outputs": [
    {
     "data": {
      "text/html": [
       "<div>\n",
       "<style scoped>\n",
       "    .dataframe tbody tr th:only-of-type {\n",
       "        vertical-align: middle;\n",
       "    }\n",
       "\n",
       "    .dataframe tbody tr th {\n",
       "        vertical-align: top;\n",
       "    }\n",
       "\n",
       "    .dataframe thead th {\n",
       "        text-align: right;\n",
       "    }\n",
       "</style>\n",
       "<table border=\"1\" class=\"dataframe\">\n",
       "  <thead>\n",
       "    <tr style=\"text-align: right;\">\n",
       "      <th></th>\n",
       "      <th>GD</th>\n",
       "      <th>SGD</th>\n",
       "      <th>GD + L2</th>\n",
       "      <th>SGD + L2</th>\n",
       "    </tr>\n",
       "  </thead>\n",
       "  <tbody>\n",
       "    <tr>\n",
       "      <th>weigt0</th>\n",
       "      <td>17.018955</td>\n",
       "      <td>17.035832</td>\n",
       "      <td>14.632535</td>\n",
       "      <td>0.565952</td>\n",
       "    </tr>\n",
       "    <tr>\n",
       "      <th>weigt1</th>\n",
       "      <td>54.469932</td>\n",
       "      <td>54.517818</td>\n",
       "      <td>36.848593</td>\n",
       "      <td>1.091694</td>\n",
       "    </tr>\n",
       "    <tr>\n",
       "      <th>weigt2</th>\n",
       "      <td>4.754375</td>\n",
       "      <td>4.688271</td>\n",
       "      <td>2.140596</td>\n",
       "      <td>0.175242</td>\n",
       "    </tr>\n",
       "    <tr>\n",
       "      <th>weigt3</th>\n",
       "      <td>63.309593</td>\n",
       "      <td>63.309183</td>\n",
       "      <td>43.428418</td>\n",
       "      <td>1.360789</td>\n",
       "    </tr>\n",
       "    <tr>\n",
       "      <th>weigt4</th>\n",
       "      <td>93.397844</td>\n",
       "      <td>93.333206</td>\n",
       "      <td>58.028767</td>\n",
       "      <td>1.580463</td>\n",
       "    </tr>\n",
       "    <tr>\n",
       "      <th>weigt5</th>\n",
       "      <td>71.041478</td>\n",
       "      <td>71.123798</td>\n",
       "      <td>54.582375</td>\n",
       "      <td>1.994122</td>\n",
       "    </tr>\n",
       "    <tr>\n",
       "      <th>weigt6</th>\n",
       "      <td>86.986003</td>\n",
       "      <td>86.897203</td>\n",
       "      <td>59.239818</td>\n",
       "      <td>2.042059</td>\n",
       "    </tr>\n",
       "    <tr>\n",
       "      <th>weigt7</th>\n",
       "      <td>10.236618</td>\n",
       "      <td>10.137880</td>\n",
       "      <td>-3.750624</td>\n",
       "      <td>-0.708847</td>\n",
       "    </tr>\n",
       "    <tr>\n",
       "      <th>weigt8</th>\n",
       "      <td>3.511197</td>\n",
       "      <td>3.538114</td>\n",
       "      <td>6.039110</td>\n",
       "      <td>0.351371</td>\n",
       "    </tr>\n",
       "    <tr>\n",
       "      <th>weigt9</th>\n",
       "      <td>70.812183</td>\n",
       "      <td>70.699960</td>\n",
       "      <td>43.597728</td>\n",
       "      <td>1.325266</td>\n",
       "    </tr>\n",
       "  </tbody>\n",
       "</table>\n",
       "</div>"
      ],
      "text/plain": [
       "               GD        SGD    GD + L2  SGD + L2\n",
       "weigt0  17.018955  17.035832  14.632535  0.565952\n",
       "weigt1  54.469932  54.517818  36.848593  1.091694\n",
       "weigt2   4.754375   4.688271   2.140596  0.175242\n",
       "weigt3  63.309593  63.309183  43.428418  1.360789\n",
       "weigt4  93.397844  93.333206  58.028767  1.580463\n",
       "weigt5  71.041478  71.123798  54.582375  1.994122\n",
       "weigt6  86.986003  86.897203  59.239818  2.042059\n",
       "weigt7  10.236618  10.137880  -3.750624 -0.708847\n",
       "weigt8   3.511197   3.538114   6.039110  0.351371\n",
       "weigt9  70.812183  70.699960  43.597728  1.325266"
      ]
     },
     "execution_count": 53,
     "metadata": {},
     "output_type": "execute_result"
    }
   ],
   "source": [
    "df2=pd.DataFrame({'GD':W_1, 'SGD':W_2,'GD + L2':W_3,'SGD + L2':W_4}, index=['weigt'+str(i) for i in range(10)])\n",
    "df2"
   ]
  },
  {
   "cell_type": "markdown",
   "metadata": {},
   "source": [
    "На графике значения \"слипаются\""
   ]
  },
  {
   "cell_type": "code",
   "execution_count": 70,
   "metadata": {
    "scrolled": true
   },
   "outputs": [],
   "source": [
    "# plt.figure(figsize=(16, 10))\n",
    "# plt.ylim((0,np.max([np.max(score_2),np.max(score_4)])))\n",
    "# plt.xlim((0,np.max([len(score_1), len(score_2), len(score_3), len(score_4)])-1000))\n",
    "# plt.plot([x for x in range(1, len(score_1) + 1)], score_1, label='GD-method')\n",
    "# plt.plot([x for x in range(1, len(score_2) + 1)], score_2, c='r', label='SGD-method')\n",
    "# plt.plot([x for x in range(1, len(score_3) + 1)], score_3, label='GD-method with L2')\n",
    "# plt.plot([x for x in range(1, len(score_4) + 1)], score_4, label='SGD-method with L2')\n",
    "# plt.axhline(mse_default, c='gray', ls='--', label=r'calculated indicator $MSE$', mew=0.9)\n",
    "# plt.xticks(list(plt.xticks()[0])+[len(score_1), len(score_2), len(score_3), len(score_4)])\n",
    "# plt.xlabel('iteratoin number')\n",
    "# plt.ylabel(r'$MSE$')\n",
    "# plt.legend()\n",
    "# plt.show()"
   ]
  },
  {
   "cell_type": "markdown",
   "metadata": {},
   "source": [
    "**3 (опция).** Модернизировать решение задания 2, заменив L2 регуляризацию на L1 регуляризацию."
   ]
  },
  {
   "cell_type": "code",
   "execution_count": 56,
   "metadata": {},
   "outputs": [],
   "source": [
    "# L1 (Манхеттенская) норма вектора\n",
    "def manhattan(vec):\n",
    "    norm=0\n",
    "    for i in vec:\n",
    "        norm+=i if i>0 else -i\n",
    "    return norm    "
   ]
  },
  {
   "cell_type": "code",
   "execution_count": 57,
   "metadata": {},
   "outputs": [],
   "source": [
    "def grad_desc_reg(X, y, alpha=1e-04, verbose=False, tol=0.0, lambda_=0.0, regularization=None):\n",
    "    '''\n",
    "    added the choice of the regularization method L1 or L2\n",
    "    :param X: features array\n",
    "    :param y: target array\n",
    "    :param alpha: learning rate, float default 1e-04\n",
    "    :param verbose: prints progress and performance once in a while, bool default False\n",
    "    :param tol: when mse is not improving by at least tol, the searching stops, float default 0.0\n",
    "    :param lambda_: regularization factor float default 0.0\n",
    "    :param regularization: regularization type str ('L1' or 'L2') default None    \n",
    "    :return: weights array, mse\n",
    "\n",
    "    '''\n",
    "    n = X.shape[0]\n",
    "    W = np.random.randn(X.shape[1], )  # задаём начальное значение весов\n",
    "    min_err = float('inf')  #начальное значение ошибки модели - бесконечность\n",
    "    n_iter = 0  # отслеживаем количество итераций\n",
    "    stop_chek = True  #будем чекать снижение ошибки\n",
    "    errors = []  # добавлено для визуализации кривой обучения\n",
    "    if regularization=='L1': # учитываем тип регуляризации L1\n",
    "        reg_elem=manhattan\n",
    "    elif regularization=='L2': # учитываем тип регуляризации L2\n",
    "        reg_elem=euclid\n",
    "    else:\n",
    "        reg_elem=lambda x: 0 # учитываем отсутствие регуляризации\n",
    "    while stop_chek:\n",
    "        n_iter += 1\n",
    "        y_pred = W @ X.T\n",
    "        err = calc_mse(y, y_pred)+lambda_*reg_elem(W) # добавляем в расчет ошибки выбранный фактор регуляризации\n",
    "        errors.append(err)\n",
    "        if min_err - err > tol:  # контролируем текущее значение ошибки\n",
    "            min_err = err\n",
    "        else:  # если снижение прекратилось, останавливаемся.\n",
    "            print(\n",
    "                f'Stop descent! iteration: {n_iter}, weights: {W}, mse: {min_err}')\n",
    "            stop_chek = False\n",
    "        W -= alpha * (1 / n * 2 * np.sum(X.T * (y_pred - y), axis=1))+lambda_*W\n",
    "        if verbose:\n",
    "            if n_iter % 1000 == 0:\n",
    "                print(n_iter, W, err)\n",
    "    return W, min_err, errors"
   ]
  },
  {
   "cell_type": "code",
   "execution_count": 70,
   "metadata": {},
   "outputs": [
    {
     "name": "stdout",
     "output_type": "stream",
     "text": [
      "Stop descent! iteration: 6762, weights: [17.01880079 54.46994916  4.7543491  63.30961598 93.39783693 71.0414892\n",
      " 86.98587194 10.23651314  3.51123532 70.81210365], mse: 14.301711798810393\n"
     ]
    }
   ],
   "source": [
    "W_5, mse_5, score_5 = grad_desc_reg(X, y, alpha=0.001, tol=0.00001, lambda_=0.00001, regularization='L1')"
   ]
  },
  {
   "cell_type": "code",
   "execution_count": 59,
   "metadata": {},
   "outputs": [],
   "source": [
    "def sgd_reg(X, y, alpha=1e-04, batch_size=1, n_epoch=1e+06, verbose=False, tol=0.0, lambda_=0.0, regularization=None):\n",
    "    '''\n",
    "    added the choice of the regularization method L1 or L2\n",
    "    :param X: features array\n",
    "    :param y: target array\n",
    "    :param alpha: learning rate, float default=1e-04\n",
    "    :param batch_size: bath_size, int default=1\n",
    "    :param n_epoh: number of training epochs, int default=1e+06\n",
    "    :param verbose: prints progress and performance once in a while, bool default False\n",
    "    :param tol: when mse is not improving by at least tol, the searching stops, float default 0.0\n",
    "    :param lambda_: regularization factor float default 0.0\n",
    "    :param regularization: regularization type str ('L1' or 'L2') default None\n",
    "    :return: weights array, mse\n",
    "    the function stops when the tol or n_epoch parameter is reached\n",
    "    \n",
    "    '''\n",
    "    n = X.shape[0]\n",
    "    W = np.random.randn(X.shape[1], )  # задаём начальное значение весов\n",
    "    n_batch = n // batch_size  # определяем количество батчей\n",
    "    if n % batch_size != 0:\n",
    "        n_batch += 1\n",
    "    min_err = float('inf')  #начальное значение ошибки модели - бесконечность\n",
    "    n_iter = 0  # отслеживаем количество итераций\n",
    "    stop_chek = True  #будем чекать снижение ошибки\n",
    "    errors = []  # добавлено для визуализации кривой обучения\n",
    "    if regularization=='L1': # учитываем тип регуляризации\n",
    "        reg_elem=manhattan\n",
    "    elif regularization=='L2':\n",
    "        reg_elem=euclid\n",
    "    else:\n",
    "        reg_elem=lambda x: 0\n",
    "    while stop_chek:\n",
    "        n_iter += 1\n",
    "        for b in range(n_batch):\n",
    "            start_ = batch_size * b\n",
    "            end_ = batch_size * (b + 1)\n",
    "            X_tmp = X.T[:, start_: end_]\n",
    "            y_tmp = y[start_: end_]\n",
    "            y_pred = W @ X_tmp\n",
    "            err = calc_mse(y_tmp, y_pred)+lambda_*reg_elem(W)  # добавляем в расчет ошибки выбранный фактор регуляризации\n",
    "            W -= alpha * (1 / n * 2 * (y_pred - y_tmp) @ X_tmp.T)+lambda_*W\n",
    "        errors.append(err)\n",
    "        if verbose:\n",
    "            if n_iter % 1000 == 0:\n",
    "                print(n_iter, W, err)\n",
    "        if n_iter==n_epoch:                      # остановка по достижении n_epoch\n",
    "            min_err=err\n",
    "            print(\n",
    "                f'Stop descent! n_epoch: {n_iter}, weights: {W}, mse: {min_err}')\n",
    "            stop_chek = False\n",
    "            break\n",
    "        if np.abs(min_err - err) > tol:          # контролируем текущее значение ошибки\n",
    "            min_err = err if err<=min_err else min_err\n",
    "        else:                                    # остановка по достижении tol\n",
    "            print(\n",
    "                f'Stop descent! n_epoch: {n_iter}, weights: {W}, mse: {min_err}')\n",
    "            stop_chek = False\n",
    "        \n",
    "    return W, min_err, errors"
   ]
  },
  {
   "cell_type": "code",
   "execution_count": 75,
   "metadata": {},
   "outputs": [
    {
     "name": "stdout",
     "output_type": "stream",
     "text": [
      "Stop descent! n_epoch: 5537, weights: [17.03653156 54.51858763  4.68722155 63.3086264  93.33140755 71.12527876\n",
      " 86.8952438  10.13596033  3.53882314 70.69710607], mse: 11.00380576466394\n"
     ]
    }
   ],
   "source": [
    "W_6, mse_6, score_6 = sgd_reg(X, y, alpha=0.001, batch_size=1, n_epoch=8000, tol=0.00001, lambda_=0.0000001, regularization='L1')"
   ]
  },
  {
   "cell_type": "markdown",
   "metadata": {},
   "source": [
    "Сравним результаты:"
   ]
  },
  {
   "cell_type": "code",
   "execution_count": 81,
   "metadata": {},
   "outputs": [
    {
     "data": {
      "text/html": [
       "<div>\n",
       "<style scoped>\n",
       "    .dataframe tbody tr th:only-of-type {\n",
       "        vertical-align: middle;\n",
       "    }\n",
       "\n",
       "    .dataframe tbody tr th {\n",
       "        vertical-align: top;\n",
       "    }\n",
       "\n",
       "    .dataframe thead th {\n",
       "        text-align: right;\n",
       "    }\n",
       "</style>\n",
       "<table border=\"1\" class=\"dataframe\">\n",
       "  <thead>\n",
       "    <tr style=\"text-align: right;\">\n",
       "      <th></th>\n",
       "      <th>methods</th>\n",
       "      <th>$\\lambda$-coeff</th>\n",
       "      <th>tol-value</th>\n",
       "      <th>iterations</th>\n",
       "      <th>err-value</th>\n",
       "    </tr>\n",
       "  </thead>\n",
       "  <tbody>\n",
       "    <tr>\n",
       "      <th>0</th>\n",
       "      <td>GD</td>\n",
       "      <td>NaN</td>\n",
       "      <td>0.00001</td>\n",
       "      <td>6814</td>\n",
       "      <td>14.301229</td>\n",
       "    </tr>\n",
       "    <tr>\n",
       "      <th>1</th>\n",
       "      <td>SGD</td>\n",
       "      <td>NaN</td>\n",
       "      <td>0.00001</td>\n",
       "      <td>5537</td>\n",
       "      <td>10.999607</td>\n",
       "    </tr>\n",
       "    <tr>\n",
       "      <th>2</th>\n",
       "      <td>GD + L2</td>\n",
       "      <td>0.001</td>\n",
       "      <td>0.00001</td>\n",
       "      <td>6750</td>\n",
       "      <td>14.484973</td>\n",
       "    </tr>\n",
       "    <tr>\n",
       "      <th>3</th>\n",
       "      <td>SGD + L2</td>\n",
       "      <td>0.001</td>\n",
       "      <td>0.00001</td>\n",
       "      <td>5520</td>\n",
       "      <td>11.180663</td>\n",
       "    </tr>\n",
       "    <tr>\n",
       "      <th>4</th>\n",
       "      <td>GD + L1</td>\n",
       "      <td>0.001</td>\n",
       "      <td>0.00001</td>\n",
       "      <td>6780</td>\n",
       "      <td>14.776822</td>\n",
       "    </tr>\n",
       "    <tr>\n",
       "      <th>5</th>\n",
       "      <td>SGD + L1</td>\n",
       "      <td>0.001</td>\n",
       "      <td>0.00001</td>\n",
       "      <td>5518</td>\n",
       "      <td>11.473527</td>\n",
       "    </tr>\n",
       "  </tbody>\n",
       "</table>\n",
       "</div>"
      ],
      "text/plain": [
       "    methods  $\\lambda$-coeff  tol-value  iterations  err-value\n",
       "0        GD              NaN    0.00001        6814  14.301229\n",
       "1       SGD              NaN    0.00001        5537  10.999607\n",
       "2   GD + L2            0.001    0.00001        6750  14.484973\n",
       "3  SGD + L2            0.001    0.00001        5520  11.180663\n",
       "4   GD + L1            0.001    0.00001        6780  14.776822\n",
       "5  SGD + L1            0.001    0.00001        5518  11.473527"
      ]
     },
     "execution_count": 81,
     "metadata": {},
     "output_type": "execute_result"
    }
   ],
   "source": [
    "df=df.append(\n",
    "    pd.DataFrame(\n",
    "        {\n",
    "            'methods':['GD + L1','SGD + L1'],\n",
    "            r'$\\lambda$-coeff':[0.001,0.001],\n",
    "            'tol-value': 0.00001,\n",
    "            'iterations': [len(it) for it in [score_5, score_6]],\n",
    "            'err-value': [it[-1] for it in [score_5, score_6]]\n",
    "        }\n",
    "    ), ignore_index=True\n",
    ")\n",
    "df"
   ]
  },
  {
   "cell_type": "code",
   "execution_count": 71,
   "metadata": {},
   "outputs": [],
   "source": [
    "# plt.figure(figsize=(16, 10))\n",
    "# plt.ylim((0,np.max([np.max(score_2),np.max(score_4), np.max(score_6)])))\n",
    "# plt.xlim((0,np.max([len(score_1), len(score_2), len(score_3), len(score_4), len(score_5), len(score_6)])-1000))\n",
    "# plt.plot([x for x in range(1, len(score_1) + 1)], score_1, label='GD-method')\n",
    "# plt.plot([x for x in range(1, len(score_2) + 1)], score_2, c='r', label='SGD-method')\n",
    "# plt.plot([x for x in range(1, len(score_3) + 1)], score_3, label='GD-method with L2')\n",
    "# plt.plot([x for x in range(1, len(score_4) + 1)], score_4, label='SGD-method with L2')\n",
    "# plt.plot([x for x in range(1, len(score_5) + 1)], score_5, label='GD-method with L1')\n",
    "# plt.plot([x for x in range(1, len(score_6) + 1)], score_6, label='SGD-method with L1')\n",
    "# plt.axhline(mse_default, c='gray', ls='--', label=r'calculated indicator $MSE$', mew=0.9)\n",
    "# plt.xticks(list(plt.xticks()[0])+[len(score_1), len(score_2), len(score_3), len(score_4), len(score_5), len(score_6)])\n",
    "# plt.xlabel('iteratoin number')\n",
    "# plt.ylabel(r'$MSE$')\n",
    "# plt.legend()\n",
    "# plt.show()"
   ]
  },
  {
   "cell_type": "code",
   "execution_count": null,
   "metadata": {},
   "outputs": [],
   "source": []
  }
 ],
 "metadata": {
  "kernelspec": {
   "display_name": "Python 3",
   "language": "python",
   "name": "python3"
  },
  "language_info": {
   "codemirror_mode": {
    "name": "ipython",
    "version": 3
   },
   "file_extension": ".py",
   "mimetype": "text/x-python",
   "name": "python",
   "nbconvert_exporter": "python",
   "pygments_lexer": "ipython3",
   "version": "3.8.5"
  }
 },
 "nbformat": 4,
 "nbformat_minor": 1
}
