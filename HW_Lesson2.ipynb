{
 "cells": [
  {
   "cell_type": "markdown",
   "metadata": {},
   "source": [
    "## <center> Практическое задание к лекции №2"
   ]
  },
  {
   "cell_type": "markdown",
   "metadata": {},
   "source": [
    "**1.** Сгенерировать датасет при помощи *sklearn.datasets.make_regression* и\n",
    "обучить линейную модель при помощи градиентного и стохастического градиентного\n",
    "спуска. Нанести среднеквадратичную ошибку для обоих методов на один график,\n",
    "сделать выводы о разнице скорости сходимости каждого из методов."
   ]
  },
  {
   "cell_type": "code",
   "execution_count": 65,
   "metadata": {
    "pycharm": {
     "name": "#%%\n"
    }
   },
   "outputs": [],
   "source": [
    "import numpy as np\n",
    "import pandas as pd\n",
    "import matplotlib.pyplot as plt\n",
    "from sklearn.datasets import make_regression\n",
    "\n",
    "%matplotlib inline"
   ]
  },
  {
   "cell_type": "code",
   "execution_count": 2,
   "metadata": {
    "pycharm": {
     "name": "#%%\n"
    }
   },
   "outputs": [],
   "source": [
    "X, y, W_default = make_regression(\n",
    "    n_features=10,\n",
    "    bias=3.5,\n",
    "    noise=1.2,\n",
    "    coef=True,\n",
    "    random_state=42\n",
    ")"
   ]
  },
  {
   "cell_type": "markdown",
   "metadata": {},
   "source": [
    "Вектор весов данной модели"
   ]
  },
  {
   "cell_type": "code",
   "execution_count": 3,
   "metadata": {
    "pycharm": {
     "name": "#%%\n"
    }
   },
   "outputs": [
    {
     "data": {
      "text/plain": [
       "array([16.74825823, 54.12963353,  5.19712837, 63.64302495, 93.62122462,\n",
       "       70.64757265, 87.09691237, 10.45678403,  3.15861448, 70.90605195])"
      ]
     },
     "execution_count": 3,
     "metadata": {},
     "output_type": "execute_result"
    }
   ],
   "source": [
    "W_default"
   ]
  },
  {
   "cell_type": "markdown",
   "metadata": {},
   "source": [
    "Расчитаем предсказания модели"
   ]
  },
  {
   "cell_type": "code",
   "execution_count": 4,
   "metadata": {
    "pycharm": {
     "name": "#%%\n"
    },
    "scrolled": true
   },
   "outputs": [],
   "source": [
    "y_pred_default = X @ W_default\n"
   ]
  },
  {
   "cell_type": "markdown",
   "metadata": {},
   "source": [
    "Посчитаем $MSE$"
   ]
  },
  {
   "cell_type": "code",
   "execution_count": 5,
   "metadata": {
    "pycharm": {
     "name": "#%%\n"
    }
   },
   "outputs": [],
   "source": [
    "def calc_mse(y, y_pred):\n",
    "    err = np.mean((y - y_pred) ** 2)\n",
    "    return err"
   ]
  },
  {
   "cell_type": "code",
   "execution_count": 6,
   "metadata": {
    "pycharm": {
     "name": "#%%\n"
    }
   },
   "outputs": [
    {
     "data": {
      "text/plain": [
       "14.867688515340427"
      ]
     },
     "execution_count": 6,
     "metadata": {},
     "output_type": "execute_result"
    }
   ],
   "source": [
    "mse_default = calc_mse(y, y_pred_default)\n",
    "mse_default"
   ]
  },
  {
   "cell_type": "markdown",
   "metadata": {},
   "source": [
    "Попробуем оптимизировать модель при помощи градиентного спуска: "
   ]
  },
  {
   "cell_type": "code",
   "execution_count": 7,
   "metadata": {
    "pycharm": {
     "name": "#%%\n"
    }
   },
   "outputs": [],
   "source": [
    "def my_grad_desc(X, y, alpha=1e-04, verbose=False, tol=0.0):\n",
    "    '''\n",
    "    :param X: features array\n",
    "    :param y: target array\n",
    "    :param alpha: learning rate, float default=1e-04\n",
    "    :param verbose: prints progress and performance once in a while, bool default False\n",
    "    :param tol: when mse is not improving by at least tol, the searching stops, float default 0.0\n",
    "    :return: weights array, mse\n",
    "\n",
    "    '''\n",
    "    n = X.shape[0]\n",
    "    W = np.random.randn(X.shape[1], )  # задаём начальное значение весов\n",
    "    min_err = float('inf')  #начальное значение ошибки модели - бесконечность\n",
    "    n_iter = 0  # отслеживаем количество итераций\n",
    "    stop_chek = True  #будем чекать снижение ошибки\n",
    "    errors = []  # добавлено для визуализации кривой обучения\n",
    "    while stop_chek:\n",
    "        n_iter += 1\n",
    "        y_pred = W @ X.T\n",
    "        err = calc_mse(y, y_pred)\n",
    "        errors.append(err)\n",
    "        if min_err - err > tol:  # контролируем текущее значение ошибки\n",
    "            min_err = err\n",
    "        else:  # если снижение прекратилось, останавливаемся.\n",
    "            print(\n",
    "                f'Stop descent! iteration: {n_iter}, weights: {W}, mse: {min_err}')\n",
    "            stop_chek = False\n",
    "        W -= alpha * (1 / n * 2 * np.sum(X.T * (y_pred - y), axis=1))\n",
    "        if verbose:\n",
    "            if n_iter % 100 == 0:\n",
    "                print(n_iter, W, err)\n",
    "    return W, min_err, errors"
   ]
  },
  {
   "cell_type": "code",
   "execution_count": 8,
   "metadata": {
    "pycharm": {
     "name": "#%%\n"
    }
   },
   "outputs": [
    {
     "name": "stdout",
     "output_type": "stream",
     "text": [
      "Stop descent! iteration: 6814, weights: [17.01842424 54.47027656  4.75415986 63.30988054 93.39791761 71.04147834\n",
      " 86.98570839 10.23641436  3.51108087 70.81240685], mse: 14.301238827422958\n"
     ]
    }
   ],
   "source": [
    "W_1, mse_1, score_1 = my_grad_desc(X, y, alpha=0.001, tol=0.00001)"
   ]
  },
  {
   "cell_type": "markdown",
   "metadata": {},
   "source": [
    "Реализуем $SGD$:"
   ]
  },
  {
   "cell_type": "code",
   "execution_count": 9,
   "metadata": {
    "pycharm": {
     "name": "#%%\n"
    }
   },
   "outputs": [],
   "source": [
    "def my_sgd(X, y, alpha=1e-04, batch_size=1, n_epoch=1e+06, verbose=False, tol=0.0):\n",
    "    '''\n",
    "    :param X: features array\n",
    "    :param y: target array\n",
    "    :param alpha: learning rate, float default 1e-04\n",
    "    :param batch_size: bath_size, int default 1\n",
    "    :param n_epoh: number of training epochs, int default 1e+06\n",
    "    :param verbose: prints progress and performance once in a while, bool default False\n",
    "    :param tol: when mse is not improving by at least tol, the searching stops, float default 0.0\n",
    "    :return: weights array, mse\n",
    "    the function stops when the tol or n_epoch parameter is reached\n",
    "    \n",
    "    '''\n",
    "    n = X.shape[0]\n",
    "    W = np.random.randn(X.shape[1], )  # задаём начальное значение весов\n",
    "    n_batch = n // batch_size  # определяем количество батчей\n",
    "    if n % batch_size != 0:\n",
    "        n_batch += 1\n",
    "    min_err = float('inf')  #начальное значение ошибки модели - бесконечность\n",
    "    n_iter = 0  # отслеживаем количество итераций\n",
    "    stop_chek = True  #будем чекать снижение ошибки\n",
    "    errors = []  # добавлено для визуализации кривой обучения\n",
    "    while stop_chek:\n",
    "        n_iter += 1\n",
    "        for b in range(n_batch):\n",
    "            start_ = batch_size * b\n",
    "            end_ = batch_size * (b + 1)\n",
    "            X_tmp = X.T[:, start_: end_]\n",
    "            y_tmp = y[start_: end_]\n",
    "            y_pred = W @ X_tmp\n",
    "            err = calc_mse(y_tmp, y_pred)\n",
    "            W -= alpha * (1 / n * 2 * (y_pred - y_tmp) @ X_tmp.T)\n",
    "        errors.append(err)\n",
    "        if verbose:\n",
    "            if n_iter % 1000 == 0:\n",
    "                print(n_iter, W, err)\n",
    "        if n_iter==n_epoch:                      # остановка по достижении n_epoch\n",
    "            print(\n",
    "                f'Stop descent! n_epoch: {n_iter}, weights: {W}, mse: {min_err}')\n",
    "            stop_chek = False\n",
    "        if np.abs(min_err - err) > tol:          # контролируем текущее значение ошибки\n",
    "            min_err = err if err<=min_err else min_err\n",
    "        else:                                    # остановка по достижении tol\n",
    "            print(\n",
    "                f'Stop descent! n_epoch: {n_iter}, weights: {W}, mse: {min_err}')\n",
    "            stop_chek = False\n",
    "        \n",
    "    return W, min_err, errors"
   ]
  },
  {
   "cell_type": "code",
   "execution_count": 10,
   "metadata": {
    "pycharm": {
     "name": "#%%\n"
    }
   },
   "outputs": [
    {
     "name": "stdout",
     "output_type": "stream",
     "text": [
      "Stop descent! n_epoch: 5537, weights: [17.03652627 54.51956969  4.6863269  63.30900688 93.33118426 71.12674552\n",
      " 86.89424694 10.13470863  3.53921913 70.69580895], mse: 10.999616611721073\n"
     ]
    }
   ],
   "source": [
    "W_2, mse_2, score_2 = my_sgd(X, y, alpha=0.001, batch_size=1, n_epoch=8000, tol=0.00001)"
   ]
  },
  {
   "cell_type": "code",
   "execution_count": 39,
   "metadata": {
    "pycharm": {
     "name": "#%%\n"
    },
    "scrolled": true
   },
   "outputs": [
    {
     "data": {
      "image/png": "[encoded data removed]",
      "text/plain": [
       "<Figure size 1152x720 with 1 Axes>"
      ]
     },
     "metadata": {
      "needs_background": "light"
     },
     "output_type": "display_data"
    }
   ],
   "source": [
    "plt.figure(figsize=(16, 10))\n",
    "plt.ylim((0,2000))\n",
    "plt.xlim((0,len(score_1)-1000))\n",
    "plt.plot([x for x in range(len(score_1))], score_1, label='GD-method')\n",
    "plt.plot([x for x in range(len(score_2))], score_2, c='r', label='SGD-method')\n",
    "plt.axhline(mse_default, c='gray', ls='--', label=r'calculated indicator $MSE$', mew=0.9)\n",
    "plt.xlabel('iteratoin number')\n",
    "plt.xticks(list(plt.xticks()[0])+[len(score_1), len(score_2)])\n",
    "plt.ylabel(r'$MSE$')\n",
    "plt.legend()\n",
    "plt.show()"
   ]
  },
  {
   "cell_type": "code",
   "execution_count": 33,
   "metadata": {},
   "outputs": [
    {
     "data": {
      "text/plain": [
       "6814"
      ]
     },
     "execution_count": 33,
     "metadata": {},
     "output_type": "execute_result"
    }
   ],
   "source": [
    "len(score_1)"
   ]
  },
  {
   "cell_type": "markdown",
   "metadata": {},
   "source": [
    "На основании графиков можно сделать вывод что примерно до 800-й итерации $SGD$ 'расходился'(значение $MSE$ росло), затем, до уроня 2300-2400 итераций оба алгоритма сходились, при этом скорость схождения $GD$ была выше, чем у $SGD$. Однако затем скорости уравнялись, и $SGD$ сошелся раньше чем $GD$ (5538 итераций против 6746).  \n",
    "\n",
    "---"
   ]
  },
  {
   "cell_type": "markdown",
   "metadata": {},
   "source": [
    "**2.** Модифицировать решение первого задания путем добавления 𝐿2 -регуляризации (в функцию, считающую MSE, нужно добавить норму вектора весов) и сравнить результаты."
   ]
  },
  {
   "cell_type": "code",
   "execution_count": 40,
   "metadata": {},
   "outputs": [],
   "source": [
    "# L2 (Евклидова) норма вектора\n",
    "def euclid(vec):\n",
    "    norm=0\n",
    "    for i in vec:\n",
    "        norm+=i**2\n",
    "    return norm**0.5"
   ]
  },
  {
   "cell_type": "markdown",
   "metadata": {},
   "source": [
    "Подкорректируем функции $GD$ и $SGD$:"
   ]
  },
  {
   "cell_type": "code",
   "execution_count": 41,
   "metadata": {},
   "outputs": [],
   "source": [
    "def my_grad_desc_reg(X, y, alpha=1e-04, verbose=False, tol=0.0, lambda_=0.0):\n",
    "    '''\n",
    "    added L2 regularization\n",
    "    :param X: features array\n",
    "    :param y: target array\n",
    "    :param alpha: learning rate, float default 1e-04\n",
    "    :param verbose: prints progress and performance once in a while, bool default False\n",
    "    :param tol: when mse is not improving by at least tol, the searching stops, float default 0.0\n",
    "    :param lambda_: regularization factor float default 0.0 \n",
    "    :return: weights array, mse\n",
    "\n",
    "    '''\n",
    "    n = X.shape[0]\n",
    "    W = np.random.randn(X.shape[1], )  # задаём начальное значение весов\n",
    "    min_err = float('inf')  #начальное значение ошибки модели - бесконечность\n",
    "    n_iter = 0  # отслеживаем количество итераций\n",
    "    stop_chek = True  #будем чекать снижение ошибки\n",
    "    errors = []  # добавлено для визуализации кривой обучения\n",
    "    while stop_chek:\n",
    "        n_iter += 1\n",
    "        y_pred = W @ X.T\n",
    "        err = calc_mse(y, y_pred)+lambda_*euclid(W) # добавляем в расчет ошибки фактор L2 регуляризации\n",
    "        errors.append(err)\n",
    "        if min_err - err > tol:  # контролируем текущее значение ошибки\n",
    "            min_err = err\n",
    "        else:  # если снижение прекратилось, останавливаемся.\n",
    "            print(\n",
    "                f'Stop descent! iteration: {n_iter}, weights: {W}, mse: {min_err}')\n",
    "            stop_chek = False\n",
    "        W -= alpha * (1 / n * 2 * np.sum(X.T * (y_pred - y), axis=1))\n",
    "        if verbose:\n",
    "            if n_iter % 1000 == 0:\n",
    "                print(n_iter, W, err)\n",
    "    return W, min_err, errors"
   ]
  },
  {
   "cell_type": "code",
   "execution_count": 46,
   "metadata": {},
   "outputs": [
    {
     "name": "stdout",
     "output_type": "stream",
     "text": [
      "Stop descent! iteration: 6750, weights: [17.01881135 54.47005712  4.75419988 63.30967776 93.39776921 71.04158604\n",
      " 86.98579437 10.23640173  3.51120187 70.81209444], mse: 14.484983481129813\n"
     ]
    }
   ],
   "source": [
    "W_3, mse_3, score_3 = my_grad_desc_reg(X, y, alpha=0.001, tol=0.00001, lambda_=0.001)"
   ]
  },
  {
   "cell_type": "code",
   "execution_count": 47,
   "metadata": {},
   "outputs": [],
   "source": [
    "def my_sgd_reg(X, y, alpha=1e-04, batch_size=1, n_epoch=1e+06, verbose=False, tol=0.0, lambda_=0.0):\n",
    "    '''\n",
    "    added L2 regularization\n",
    "    :param X: features array\n",
    "    :param y: target array\n",
    "    :param alpha: learning rate, float default=1e-04\n",
    "    :param batch_size: bath_size, int default=1\n",
    "    :param n_epoh: number of training epochs, int default=1e+06\n",
    "    :param verbose: prints progress and performance once in a while, bool default False\n",
    "    :param tol: when mse is not improving by at least tol, the searching stops, float default 0.0\n",
    "    :param lambda_: regularization factor float default 0.0\n",
    "    :return: weights array, mse\n",
    "    the function stops when the tol or n_epoch parameter is reached\n",
    "    \n",
    "    '''\n",
    "    n = X.shape[0]\n",
    "    W = np.random.randn(X.shape[1], )  # задаём начальное значение весов\n",
    "    n_batch = n // batch_size  # определяем количество батчей\n",
    "    if n % batch_size != 0:\n",
    "        n_batch += 1\n",
    "    min_err = float('inf')  #начальное значение ошибки модели - бесконечность\n",
    "    n_iter = 0  # отслеживаем количество итераций\n",
    "    stop_chek = True  #будем чекать снижение ошибки\n",
    "    errors = []  # добавлено для визуализации кривой обучения\n",
    "    while stop_chek:\n",
    "        n_iter += 1\n",
    "        for b in range(n_batch):\n",
    "            start_ = batch_size * b\n",
    "            end_ = batch_size * (b + 1)\n",
    "            X_tmp = X.T[:, start_: end_]\n",
    "            y_tmp = y[start_: end_]\n",
    "            y_pred = W @ X_tmp\n",
    "            err = calc_mse(y_tmp, y_pred)+lambda_*euclid(W) # добавляем в расчет ошибки фактор L2 регуляризации\n",
    "            W -= alpha * (1 / n * 2 * (y_pred - y_tmp) @ X_tmp.T)\n",
    "        errors.append(err)\n",
    "        if verbose:\n",
    "            if n_iter % 1000 == 0:\n",
    "                print(n_iter, W, err)\n",
    "        if n_iter==n_epoch:                      # остановка по достижении n_epoch\n",
    "            print(\n",
    "                f'Stop descent! n_epoch: {n_iter}, weights: {W}, mse: {min_err}')\n",
    "            stop_chek = False\n",
    "        if np.abs(min_err - err) > tol:          # контролируем текущее значение ошибки\n",
    "            min_err = err if err<=min_err else min_err\n",
    "        else:                                    # остановка по достижении tol\n",
    "            print(\n",
    "                f'Stop descent! n_epoch: {n_iter}, weights: {W}, mse: {min_err}')\n",
    "            stop_chek = False\n",
    "        \n",
    "    return W, min_err, errors"
   ]
  },
  {
   "cell_type": "code",
   "execution_count": 48,
   "metadata": {
    "scrolled": true
   },
   "outputs": [
    {
     "name": "stdout",
     "output_type": "stream",
     "text": [
      "Stop descent! n_epoch: 5520, weights: [17.03720126 54.52160637  4.6831437  63.30905725 93.32825437 71.13019244\n",
      " 86.89045096 10.13041183  3.54016337 70.69129963], mse: 11.180673379032212\n"
     ]
    }
   ],
   "source": [
    "W_4, mse_4, score_4 = my_sgd_reg(X, y, alpha=0.001, batch_size=1, n_epoch=8000, tol=0.00001, lambda_=0.001)"
   ]
  },
  {
   "cell_type": "markdown",
   "metadata": {},
   "source": [
    "Сравним полученные результаты:"
   ]
  },
  {
   "cell_type": "code",
   "execution_count": 74,
   "metadata": {},
   "outputs": [
    {
     "data": {
      "text/html": [
       "<div>\n",
       "<style scoped>\n",
       "    .dataframe tbody tr th:only-of-type {\n",
       "        vertical-align: middle;\n",
       "    }\n",
       "\n",
       "    .dataframe tbody tr th {\n",
       "        vertical-align: top;\n",
       "    }\n",
       "\n",
       "    .dataframe thead th {\n",
       "        text-align: right;\n",
       "    }\n",
       "</style>\n",
       "<table border=\"1\" class=\"dataframe\">\n",
       "  <thead>\n",
       "    <tr style=\"text-align: right;\">\n",
       "      <th></th>\n",
       "      <th>methods</th>\n",
       "      <th>$\\lambda$-coeff</th>\n",
       "      <th>tol-value</th>\n",
       "      <th>iterations</th>\n",
       "      <th>err-value</th>\n",
       "    </tr>\n",
       "  </thead>\n",
       "  <tbody>\n",
       "    <tr>\n",
       "      <th>0</th>\n",
       "      <td>GD</td>\n",
       "      <td>NaN</td>\n",
       "      <td>0.00001</td>\n",
       "      <td>6814</td>\n",
       "      <td>14.301229</td>\n",
       "    </tr>\n",
       "    <tr>\n",
       "      <th>1</th>\n",
       "      <td>SGD</td>\n",
       "      <td>NaN</td>\n",
       "      <td>0.00001</td>\n",
       "      <td>5537</td>\n",
       "      <td>10.999607</td>\n",
       "    </tr>\n",
       "    <tr>\n",
       "      <th>2</th>\n",
       "      <td>GD + L2</td>\n",
       "      <td>0.001</td>\n",
       "      <td>0.00001</td>\n",
       "      <td>6750</td>\n",
       "      <td>14.484973</td>\n",
       "    </tr>\n",
       "    <tr>\n",
       "      <th>3</th>\n",
       "      <td>SGD + L2</td>\n",
       "      <td>0.001</td>\n",
       "      <td>0.00001</td>\n",
       "      <td>5520</td>\n",
       "      <td>11.180663</td>\n",
       "    </tr>\n",
       "  </tbody>\n",
       "</table>\n",
       "</div>"
      ],
      "text/plain": [
       "    methods  $\\lambda$-coeff  tol-value  iterations  err-value\n",
       "0        GD              NaN    0.00001        6814  14.301229\n",
       "1       SGD              NaN    0.00001        5537  10.999607\n",
       "2   GD + L2            0.001    0.00001        6750  14.484973\n",
       "3  SGD + L2            0.001    0.00001        5520  11.180663"
      ]
     },
     "execution_count": 74,
     "metadata": {},
     "output_type": "execute_result"
    }
   ],
   "source": [
    "df=pd.DataFrame(\n",
    "    {\n",
    "        'methods':['GD', 'SGD','GD + L2','SGD + L2'],\n",
    "        r'$\\lambda$-coeff':[None,None,0.001,0.001],\n",
    "        'tol-value': 0.00001,\n",
    "        'iterations': [len(it) for it in [score_1, score_2, score_3,score_4]],\n",
    "        'err-value': [it[-1] for it in [score_1, score_2, score_3,score_4]]\n",
    "    }\n",
    ")\n",
    "df"
   ]
  },
  {
   "cell_type": "markdown",
   "metadata": {},
   "source": [
    "На графике значения \"слипаются\""
   ]
  },
  {
   "cell_type": "code",
   "execution_count": 70,
   "metadata": {
    "scrolled": true
   },
   "outputs": [],
   "source": [
    "# plt.figure(figsize=(16, 10))\n",
    "# plt.ylim((0,np.max([np.max(score_2),np.max(score_4)])))\n",
    "# plt.xlim((0,np.max([len(score_1), len(score_2), len(score_3), len(score_4)])-1000))\n",
    "# plt.plot([x for x in range(1, len(score_1) + 1)], score_1, label='GD-method')\n",
    "# plt.plot([x for x in range(1, len(score_2) + 1)], score_2, c='r', label='SGD-method')\n",
    "# plt.plot([x for x in range(1, len(score_3) + 1)], score_3, label='GD-method with L2')\n",
    "# plt.plot([x for x in range(1, len(score_4) + 1)], score_4, label='SGD-method with L2')\n",
    "# plt.axhline(mse_default, c='gray', ls='--', label=r'calculated indicator $MSE$', mew=0.9)\n",
    "# plt.xticks(list(plt.xticks()[0])+[len(score_1), len(score_2), len(score_3), len(score_4)])\n",
    "# plt.xlabel('iteratoin number')\n",
    "# plt.ylabel(r'$MSE$')\n",
    "# plt.legend()\n",
    "# plt.show()"
   ]
  },
  {
   "cell_type": "markdown",
   "metadata": {},
   "source": [
    "**3 (опция).** Модернизировать решение задания 2, заменив L2 регуляризацию на L1 регуляризацию."
   ]
  },
  {
   "cell_type": "code",
   "execution_count": 56,
   "metadata": {},
   "outputs": [],
   "source": [
    "# L1 (Манхеттенская) норма вектора\n",
    "def manhattan(vec):\n",
    "    norm=0\n",
    "    for i in vec:\n",
    "        norm+=i if i>0 else -i\n",
    "    return norm    "
   ]
  },
  {
   "cell_type": "code",
   "execution_count": 57,
   "metadata": {},
   "outputs": [],
   "source": [
    "def grad_desc_reg(X, y, alpha=1e-04, verbose=False, tol=0.0, lambda_=0.0, regularization=None):\n",
    "    '''\n",
    "    added the choice of the regularization method L1 or L2\n",
    "    :param X: features array\n",
    "    :param y: target array\n",
    "    :param alpha: learning rate, float default 1e-04\n",
    "    :param verbose: prints progress and performance once in a while, bool default False\n",
    "    :param tol: when mse is not improving by at least tol, the searching stops, float default 0.0\n",
    "    :param lambda_: regularization factor float default 0.0\n",
    "    :param regularization: regularization type str ('L1' or 'L2') default None    \n",
    "    :return: weights array, mse\n",
    "\n",
    "    '''\n",
    "    n = X.shape[0]\n",
    "    W = np.random.randn(X.shape[1], )  # задаём начальное значение весов\n",
    "    min_err = float('inf')  #начальное значение ошибки модели - бесконечность\n",
    "    n_iter = 0  # отслеживаем количество итераций\n",
    "    stop_chek = True  #будем чекать снижение ошибки\n",
    "    errors = []  # добавлено для визуализации кривой обучения\n",
    "    if regularization=='L1': # учитываем тип регуляризации L1\n",
    "        reg_elem=manhattan\n",
    "    elif regularization=='L2': # учитываем тип регуляризации L2\n",
    "        reg_elem=euclid\n",
    "    else:\n",
    "        reg_elem=lambda x: 0 # учитываем отсутствие регуляризации\n",
    "    while stop_chek:\n",
    "        n_iter += 1\n",
    "        y_pred = W @ X.T\n",
    "        err = calc_mse(y, y_pred)+lambda_*reg_elem(W) # добавляем в расчет ошибки выбранный фактор регуляризации\n",
    "        errors.append(err)\n",
    "        if min_err - err > tol:  # контролируем текущее значение ошибки\n",
    "            min_err = err\n",
    "        else:  # если снижение прекратилось, останавливаемся.\n",
    "            print(\n",
    "                f'Stop descent! iteration: {n_iter}, weights: {W}, mse: {min_err}')\n",
    "            stop_chek = False\n",
    "        W -= alpha * (1 / n * 2 * np.sum(X.T * (y_pred - y), axis=1))\n",
    "        if verbose:\n",
    "            if n_iter % 1000 == 0:\n",
    "                print(n_iter, W, err)\n",
    "    return W, min_err, errors"
   ]
  },
  {
   "cell_type": "code",
   "execution_count": 58,
   "metadata": {},
   "outputs": [
    {
     "name": "stdout",
     "output_type": "stream",
     "text": [
      "Stop descent! iteration: 6780, weights: [17.01863897 54.47026126  4.7540524  63.30977902 93.39771965 71.04170771\n",
      " 86.9855581  10.23619397  3.51121266 70.81199881], mse: 14.776832249335945\n"
     ]
    }
   ],
   "source": [
    "W_5, mse_5, score_5 = grad_desc_reg(X, y, alpha=0.001, tol=0.00001, lambda_=0.001, regularization='L1')"
   ]
  },
  {
   "cell_type": "code",
   "execution_count": 60,
   "metadata": {},
   "outputs": [],
   "source": [
    "def sgd_reg(X, y, alpha=1e-04, batch_size=1, n_epoch=1e+06, verbose=False, tol=0.0, lambda_=0.0, regularization=None):\n",
    "    '''\n",
    "    added the choice of the regularization method L1 or L2\n",
    "    :param X: features array\n",
    "    :param y: target array\n",
    "    :param alpha: learning rate, float default=1e-04\n",
    "    :param batch_size: bath_size, int default=1\n",
    "    :param n_epoh: number of training epochs, int default=1e+06\n",
    "    :param verbose: prints progress and performance once in a while, bool default False\n",
    "    :param tol: when mse is not improving by at least tol, the searching stops, float default 0.0\n",
    "    :param lambda_: regularization factor float default 0.0\n",
    "    :param regularization: regularization type str ('L1' or 'L2') default None\n",
    "    :return: weights array, mse\n",
    "    the function stops when the tol or n_epoch parameter is reached\n",
    "    \n",
    "    '''\n",
    "    n = X.shape[0]\n",
    "    W = np.random.randn(X.shape[1], )  # задаём начальное значение весов\n",
    "    n_batch = n // batch_size  # определяем количество батчей\n",
    "    if n % batch_size != 0:\n",
    "        n_batch += 1\n",
    "    min_err = float('inf')  #начальное значение ошибки модели - бесконечность\n",
    "    n_iter = 0  # отслеживаем количество итераций\n",
    "    stop_chek = True  #будем чекать снижение ошибки\n",
    "    errors = []  # добавлено для визуализации кривой обучения\n",
    "    if regularization=='L1': # учитываем тип регуляризации\n",
    "        reg_elem=manhattan\n",
    "    elif regularization=='L2':\n",
    "        reg_elem=euclid\n",
    "    else:\n",
    "        reg_elem=lambda x: 0\n",
    "    while stop_chek:\n",
    "        n_iter += 1\n",
    "        for b in range(n_batch):\n",
    "            start_ = batch_size * b\n",
    "            end_ = batch_size * (b + 1)\n",
    "            X_tmp = X.T[:, start_: end_]\n",
    "            y_tmp = y[start_: end_]\n",
    "            y_pred = W @ X_tmp\n",
    "            err = calc_mse(y_tmp, y_pred)+lambda_*reg_elem(W)  # добавляем в расчет ошибки выбранный фактор регуляризации\n",
    "            W -= alpha * (1 / n * 2 * (y_pred - y_tmp) @ X_tmp.T)\n",
    "        errors.append(err)\n",
    "        if verbose:\n",
    "            if n_iter % 1000 == 0:\n",
    "                print(n_iter, W, err)\n",
    "        if n_iter==n_epoch:                      # остановка по достижении n_epoch\n",
    "            min_err=err\n",
    "            print(\n",
    "                f'Stop descent! n_epoch: {n_iter}, weights: {W}, mse: {min_err}')\n",
    "            stop_chek = False\n",
    "            break\n",
    "        if np.abs(min_err - err) > tol:          # контролируем текущее значение ошибки\n",
    "            min_err = err if err<=min_err else min_err\n",
    "        else:                                    # остановка по достижении tol\n",
    "            print(\n",
    "                f'Stop descent! n_epoch: {n_iter}, weights: {W}, mse: {min_err}')\n",
    "            stop_chek = False\n",
    "        \n",
    "    return W, min_err, errors"
   ]
  },
  {
   "cell_type": "code",
   "execution_count": 63,
   "metadata": {},
   "outputs": [
    {
     "name": "stdout",
     "output_type": "stream",
     "text": [
      "Stop descent! n_epoch: 5518, weights: [17.03642445 54.52074663  4.68495917 63.30930063 93.32995048 71.12804657\n",
      " 86.89241627 10.13274945  3.53951557 70.6941867 ], mse: 11.473536870234723\n"
     ]
    }
   ],
   "source": [
    "W_6, mse_6, score_6 = sgd_reg(X, y, alpha=0.001, batch_size=1, n_epoch=8000, tol=0.00001, lambda_=0.001, regularization='L1')"
   ]
  },
  {
   "cell_type": "markdown",
   "metadata": {},
   "source": [
    "Сравним результаты:"
   ]
  },
  {
   "cell_type": "code",
   "execution_count": 81,
   "metadata": {},
   "outputs": [
    {
     "data": {
      "text/html": [
       "<div>\n",
       "<style scoped>\n",
       "    .dataframe tbody tr th:only-of-type {\n",
       "        vertical-align: middle;\n",
       "    }\n",
       "\n",
       "    .dataframe tbody tr th {\n",
       "        vertical-align: top;\n",
       "    }\n",
       "\n",
       "    .dataframe thead th {\n",
       "        text-align: right;\n",
       "    }\n",
       "</style>\n",
       "<table border=\"1\" class=\"dataframe\">\n",
       "  <thead>\n",
       "    <tr style=\"text-align: right;\">\n",
       "      <th></th>\n",
       "      <th>methods</th>\n",
       "      <th>$\\lambda$-coeff</th>\n",
       "      <th>tol-value</th>\n",
       "      <th>iterations</th>\n",
       "      <th>err-value</th>\n",
       "    </tr>\n",
       "  </thead>\n",
       "  <tbody>\n",
       "    <tr>\n",
       "      <th>0</th>\n",
       "      <td>GD</td>\n",
       "      <td>NaN</td>\n",
       "      <td>0.00001</td>\n",
       "      <td>6814</td>\n",
       "      <td>14.301229</td>\n",
       "    </tr>\n",
       "    <tr>\n",
       "      <th>1</th>\n",
       "      <td>SGD</td>\n",
       "      <td>NaN</td>\n",
       "      <td>0.00001</td>\n",
       "      <td>5537</td>\n",
       "      <td>10.999607</td>\n",
       "    </tr>\n",
       "    <tr>\n",
       "      <th>2</th>\n",
       "      <td>GD + L2</td>\n",
       "      <td>0.001</td>\n",
       "      <td>0.00001</td>\n",
       "      <td>6750</td>\n",
       "      <td>14.484973</td>\n",
       "    </tr>\n",
       "    <tr>\n",
       "      <th>3</th>\n",
       "      <td>SGD + L2</td>\n",
       "      <td>0.001</td>\n",
       "      <td>0.00001</td>\n",
       "      <td>5520</td>\n",
       "      <td>11.180663</td>\n",
       "    </tr>\n",
       "    <tr>\n",
       "      <th>4</th>\n",
       "      <td>GD + L1</td>\n",
       "      <td>0.001</td>\n",
       "      <td>0.00001</td>\n",
       "      <td>6780</td>\n",
       "      <td>14.776822</td>\n",
       "    </tr>\n",
       "    <tr>\n",
       "      <th>5</th>\n",
       "      <td>SGD + L1</td>\n",
       "      <td>0.001</td>\n",
       "      <td>0.00001</td>\n",
       "      <td>5518</td>\n",
       "      <td>11.473527</td>\n",
       "    </tr>\n",
       "  </tbody>\n",
       "</table>\n",
       "</div>"
      ],
      "text/plain": [
       "    methods  $\\lambda$-coeff  tol-value  iterations  err-value\n",
       "0        GD              NaN    0.00001        6814  14.301229\n",
       "1       SGD              NaN    0.00001        5537  10.999607\n",
       "2   GD + L2            0.001    0.00001        6750  14.484973\n",
       "3  SGD + L2            0.001    0.00001        5520  11.180663\n",
       "4   GD + L1            0.001    0.00001        6780  14.776822\n",
       "5  SGD + L1            0.001    0.00001        5518  11.473527"
      ]
     },
     "execution_count": 81,
     "metadata": {},
     "output_type": "execute_result"
    }
   ],
   "source": [
    "df=df.append(\n",
    "    pd.DataFrame(\n",
    "        {\n",
    "            'methods':['GD + L1','SGD + L1'],\n",
    "            r'$\\lambda$-coeff':[0.001,0.001],\n",
    "            'tol-value': 0.00001,\n",
    "            'iterations': [len(it) for it in [score_5, score_6]],\n",
    "            'err-value': [it[-1] for it in [score_5, score_6]]\n",
    "        }\n",
    "    ), ignore_index=True\n",
    ")\n",
    "df"
   ]
  },
  {
   "cell_type": "code",
   "execution_count": 71,
   "metadata": {},
   "outputs": [],
   "source": [
    "# plt.figure(figsize=(16, 10))\n",
    "# plt.ylim((0,np.max([np.max(score_2),np.max(score_4), np.max(score_6)])))\n",
    "# plt.xlim((0,np.max([len(score_1), len(score_2), len(score_3), len(score_4), len(score_5), len(score_6)])-1000))\n",
    "# plt.plot([x for x in range(1, len(score_1) + 1)], score_1, label='GD-method')\n",
    "# plt.plot([x for x in range(1, len(score_2) + 1)], score_2, c='r', label='SGD-method')\n",
    "# plt.plot([x for x in range(1, len(score_3) + 1)], score_3, label='GD-method with L2')\n",
    "# plt.plot([x for x in range(1, len(score_4) + 1)], score_4, label='SGD-method with L2')\n",
    "# plt.plot([x for x in range(1, len(score_5) + 1)], score_5, label='GD-method with L1')\n",
    "# plt.plot([x for x in range(1, len(score_6) + 1)], score_6, label='SGD-method with L1')\n",
    "# plt.axhline(mse_default, c='gray', ls='--', label=r'calculated indicator $MSE$', mew=0.9)\n",
    "# plt.xticks(list(plt.xticks()[0])+[len(score_1), len(score_2), len(score_3), len(score_4), len(score_5), len(score_6)])\n",
    "# plt.xlabel('iteratoin number')\n",
    "# plt.ylabel(r'$MSE$')\n",
    "# plt.legend()\n",
    "# plt.show()"
   ]
  },
  {
   "cell_type": "code",
   "execution_count": null,
   "metadata": {},
   "outputs": [],
   "source": []
  }
 ],
 "metadata": {
  "kernelspec": {
   "display_name": "Python 3",
   "language": "python",
   "name": "python3"
  },
  "language_info": {
   "codemirror_mode": {
    "name": "ipython",
    "version": 3
   },
   "file_extension": ".py",
   "mimetype": "text/x-python",
   "name": "python",
   "nbconvert_exporter": "python",
   "pygments_lexer": "ipython3",
   "version": "3.8.5"
  }
 },
 "nbformat": 4,
 "nbformat_minor": 1
}
