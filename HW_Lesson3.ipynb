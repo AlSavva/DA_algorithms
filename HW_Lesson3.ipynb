{
 "cells": [
  {
   "cell_type": "markdown",
   "id": "strange-relationship",
   "metadata": {},
   "source": [
    "## <center> Практическое задание к лекции №3"
   ]
  },
  {
   "cell_type": "markdown",
   "id": "religious-elder",
   "metadata": {},
   "source": [
    "__1*__. Измените функцию calc_logloss так, чтобы нули по возможности не попадали в np.log.    \n",
    "__2__. Подберите аргументы функции eval_model для логистической регрессии таким образом, чтобы log loss был минимальным.  \n",
    "__3__. Создайте функцию calc_pred_proba, возвращающую предсказанную вероятность класса 1 (на вход подаются W, который уже посчитан функцией eval_model и X, на выходе - массив y_pred_proba).  \n",
    "__4__. Создайте функцию calc_pred, возвращающую предсказанный класс (на вход подаются W, который уже посчитан функцией eval_model и X, на выходе - массив y_pred).  \n",
    "__5__. Посчитайте Accuracy, матрицу ошибок, точность и полноту, а также F1 score.  \n",
    "__6__. Могла ли модель переобучиться? Почему?  \n",
    "__7*__. Создайте функции eval_model_l1 и eval_model_l2 с применением L1 и L2 регуляризаций соответственно."
   ]
  },
  {
   "cell_type": "code",
   "execution_count": 1,
   "id": "talented-length",
   "metadata": {},
   "outputs": [],
   "source": [
    "import numpy as np\n",
    "import pandas as pd\n",
    "import matplotlib.pyplot as plt\n",
    "\n",
    "\n",
    "%matplotlib inline"
   ]
  },
  {
   "cell_type": "markdown",
   "id": "stunning-remainder",
   "metadata": {},
   "source": [
    "### Вводные условия"
   ]
  },
  {
   "cell_type": "code",
   "execution_count": 2,
   "id": "usual-production",
   "metadata": {},
   "outputs": [],
   "source": [
    "X = np.array([[1, 1, 1, 1, 1, 1, 1, 1, 1, 1],\n",
    "              [1, 1, 2, 1, 3, 0, 5, 10, 1, 2],\n",
    "              [500, 700, 750, 600, 1450,\n",
    "               800, 1500, 2000, 450, 1000],\n",
    "              [1, 1, 2, 1, 2, 1, 3, 3, 1, 2]], dtype = np.float64)\n",
    "\n",
    "y = np.array([0, 0, 1, 0, 1, 0, 1, 0, 1, 1], dtype = np.float64)"
   ]
  },
  {
   "cell_type": "code",
   "execution_count": 3,
   "id": "silver-breeding",
   "metadata": {},
   "outputs": [
    {
     "data": {
      "text/plain": [
       "array([0.2617132 , 0.17509907, 1.02794228, 0.21840613, 0.53795688,\n",
       "       0.31862798, 1.20396413, 0.05324898, 0.28336673, 0.91967463])"
      ]
     },
     "execution_count": 3,
     "metadata": {},
     "output_type": "execute_result"
    }
   ],
   "source": [
    "from sklearn.linear_model import LinearRegression\n",
    "\n",
    "model = LinearRegression()\n",
    "model.fit(X.T, y)\n",
    "model.predict(X.T)"
   ]
  },
  {
   "cell_type": "code",
   "execution_count": 4,
   "id": "formed-digit",
   "metadata": {},
   "outputs": [],
   "source": [
    "def calc_std_feat(x):\n",
    "    res = (x - x.mean()) / x.std()\n",
    "    return res"
   ]
  },
  {
   "cell_type": "code",
   "execution_count": 5,
   "id": "continued-italic",
   "metadata": {},
   "outputs": [],
   "source": [
    "X_st = X.copy()\n",
    "X_st[2, :] = calc_std_feat(X[2, :])"
   ]
  },
  {
   "cell_type": "code",
   "execution_count": 6,
   "id": "synthetic-limitation",
   "metadata": {},
   "outputs": [],
   "source": [
    "def sigmoid(z):\n",
    "    res = 1 / (1 + np.exp(-z))\n",
    "    return res"
   ]
  },
  {
   "cell_type": "code",
   "execution_count": 7,
   "id": "comprehensive-thanksgiving",
   "metadata": {},
   "outputs": [],
   "source": [
    "def calc_logloss(y, y_pred):\n",
    "    err = - np.mean(y * np.log(y_pred) + (1.0 - y) * np.log(1.0 - y_pred))\n",
    "    return err"
   ]
  },
  {
   "cell_type": "code",
   "execution_count": 8,
   "id": "artificial-thought",
   "metadata": {},
   "outputs": [
    {
     "data": {
      "text/plain": [
       "array([0.56505739, 0.54366327, 0.73651677, 0.55438552, 0.63133701,\n",
       "       0.57898984, 0.76922923, 0.5133091 , 0.57037143, 0.7149758 ])"
      ]
     },
     "execution_count": 8,
     "metadata": {},
     "output_type": "execute_result"
    }
   ],
   "source": [
    "y_pred=sigmoid(model.predict(X.T))\n",
    "y_pred"
   ]
  },
  {
   "cell_type": "code",
   "execution_count": 9,
   "id": "another-makeup",
   "metadata": {},
   "outputs": [],
   "source": [
    "def eval_model(X, y, iterations, alpha=1e-4):\n",
    "    np.random.seed(42)\n",
    "    W = np.random.randn(X.shape[0])\n",
    "    n = X.shape[1]\n",
    "    for i in range(1, iterations+1):\n",
    "        z = np.dot(W, X)\n",
    "        y_pred = sigmoid(z)\n",
    "        err = calc_logloss(y, y_pred)\n",
    "        W -= alpha * (1/n * np.dot((y_pred - y), X.T))\n",
    "    if i % (iterations / 10) == 0:\n",
    "        print(i, W, err)\n",
    "    return W"
   ]
  },
  {
   "cell_type": "markdown",
   "id": "individual-virginia",
   "metadata": {},
   "source": [
    "__1*__. Измените функцию calc_logloss так, чтобы нули по возможности не попадали в np.log.  \n",
    "\n",
    "---"
   ]
  },
  {
   "cell_type": "markdown",
   "id": "pursuant-desert",
   "metadata": {},
   "source": [
    "исходный код функции calc_logloss"
   ]
  },
  {
   "cell_type": "markdown",
   "id": "micro-arizona",
   "metadata": {},
   "source": [
    "`\n",
    "def calc_logloss(y, y_pred):\n",
    "    err = - np.mean(y * np.log(y_pred) + (1.0 - y) * np.log(1.0 - y_pred))\n",
    "    return err\n",
    "`"
   ]
  },
  {
   "cell_type": "markdown",
   "id": "naughty-holly",
   "metadata": {},
   "source": [
    "Модифицируем функцию:"
   ]
  },
  {
   "cell_type": "code",
   "execution_count": 10,
   "id": "respected-airport",
   "metadata": {},
   "outputs": [],
   "source": [
    "def calc_logloss_mod(y, y_pred):\n",
    "    err = - np.mean(y * np.log(y_pred, where=(y_pred != 0)) + (1.0 - y) * np.log(1.0 - y_pred, where=(y_pred != 1)))\n",
    "    return err"
   ]
  },
  {
   "cell_type": "markdown",
   "id": "interracial-verification",
   "metadata": {},
   "source": [
    "Для проверки изменим вектор предсказанных значений, добавив в него нули и единицы"
   ]
  },
  {
   "cell_type": "code",
   "execution_count": 11,
   "id": "color-cleaner",
   "metadata": {
    "scrolled": true
   },
   "outputs": [
    {
     "data": {
      "text/plain": [
       "0.3559391349579412"
      ]
     },
     "execution_count": 11,
     "metadata": {},
     "output_type": "execute_result"
    }
   ],
   "source": [
    "y_pred1=np.array([0.56505739, 0., 0.73651677, 0.55438552, 1.,\n",
    "       0.57898984, 0.76922923, 0.5133091 , 0., 0.7149758 ])\n",
    "calc_logloss_mod(y, y_pred1)"
   ]
  },
  {
   "cell_type": "markdown",
   "id": "capital-teacher",
   "metadata": {},
   "source": [
    "Исходная функция при этом возвращает nan"
   ]
  },
  {
   "cell_type": "code",
   "execution_count": 12,
   "id": "offshore-depth",
   "metadata": {
    "scrolled": true
   },
   "outputs": [
    {
     "name": "stderr",
     "output_type": "stream",
     "text": [
      "<ipython-input-7-7d5907c1794a>:2: RuntimeWarning: divide by zero encountered in log\n",
      "  err = - np.mean(y * np.log(y_pred) + (1.0 - y) * np.log(1.0 - y_pred))\n",
      "<ipython-input-7-7d5907c1794a>:2: RuntimeWarning: invalid value encountered in multiply\n",
      "  err = - np.mean(y * np.log(y_pred) + (1.0 - y) * np.log(1.0 - y_pred))\n"
     ]
    },
    {
     "data": {
      "text/plain": [
       "nan"
      ]
     },
     "execution_count": 12,
     "metadata": {},
     "output_type": "execute_result"
    }
   ],
   "source": [
    "calc_logloss(y, y_pred1)"
   ]
  },
  {
   "cell_type": "markdown",
   "id": "published-verification",
   "metadata": {},
   "source": [
    "**2.** Подберите аргументы функции eval_model для логистической регрессии таким образом, чтобы log loss был минимальным.  \n",
    "\n",
    "---"
   ]
  },
  {
   "cell_type": "code",
   "execution_count": 13,
   "id": "finished-vector",
   "metadata": {},
   "outputs": [],
   "source": [
    "def eval_model(X, y, iterations, alpha=1e-4):\n",
    "    np.random.seed(42)\n",
    "    W = np.random.randn(X.shape[0])\n",
    "    n = X.shape[1]\n",
    "    for i in range(1, iterations+1):\n",
    "        z = np.dot(W, X)\n",
    "        y_pred = sigmoid(z)\n",
    "        err = calc_logloss_mod(y, y_pred) # заменим на модифицированную нами функцию\n",
    "        W -= alpha * (1/n * np.dot((y_pred - y), X.T))\n",
    "    if i % (iterations / 10) == 0:\n",
    "        print(i, W, err)\n",
    "    return W"
   ]
  },
  {
   "cell_type": "code",
   "execution_count": 14,
   "id": "deluxe-benchmark",
   "metadata": {},
   "outputs": [
    {
     "name": "stdout",
     "output_type": "stream",
     "text": [
      "1000 [ 0.49282757 -0.15007512  0.64748969  1.51727928] 1.2013133809011647\n"
     ]
    }
   ],
   "source": [
    "W = eval_model(X_st, y, iterations=1000, alpha=1e-5)"
   ]
  },
  {
   "cell_type": "markdown",
   "id": "transparent-profession",
   "metadata": {},
   "source": [
    "для подбора параметров модифицируем функцию, для остановки до достижения заданного количества итераций, если величина ошибки не изменяется выше указанного показателя"
   ]
  },
  {
   "cell_type": "code",
   "execution_count": 15,
   "id": "dirty-jacksonville",
   "metadata": {},
   "outputs": [],
   "source": [
    "def eval_model(X, y, verbose=False, alpha=1e-4, tol=0.00001): \n",
    "    view_ind = 10**(-np.log10(tol)-2) if -np.log10(tol)-2>=1 else 1 # задаём параметр кратности вывода промежуточных результатов\n",
    "    np.random.seed(42)\n",
    "    W = np.random.randn(X.shape[0])\n",
    "    n = X.shape[1]\n",
    "    min_err = float('inf')  #начальное значение ошибки модели - бесконечность\n",
    "    n_iter = 0  # отслеживаем количество итераций\n",
    "    stop_chek = True\n",
    "    errors = []  # добавлено для визуализации кривой обучения\n",
    "    while stop_chek:\n",
    "        n_iter += 1\n",
    "        z = np.dot(W, X)\n",
    "        y_pred = sigmoid(z)\n",
    "        err = calc_logloss_mod(y, y_pred) # заменим на модифицированную нами функцию\n",
    "        errors.append(err)\n",
    "        if min_err - err > tol:  # контролируем текущее значение ошибки\n",
    "            min_err = err\n",
    "        else:  # если снижение прекратилось, останавливаемся.\n",
    "            print(\n",
    "                f'Stop descent! iteration: {n_iter}, weights: {W}, logloss: {min_err}')\n",
    "            stop_chek = False\n",
    "        W -= alpha * (1/n * np.dot((y_pred - y), X.T))\n",
    "        if verbose:\n",
    "            if n_iter % view_ind == 0:\n",
    "                print(n_iter, W, err)\n",
    "    return W, min_err, n_iter"
   ]
  },
  {
   "cell_type": "code",
   "execution_count": 16,
   "id": "collective-apache",
   "metadata": {},
   "outputs": [
    {
     "name": "stdout",
     "output_type": "stream",
     "text": [
      "1000 [-8.650831   -1.25372329 -1.54901597  7.41955336] 0.28239658432599735\n",
      "2000 [-12.40065236  -1.54519184  -2.73360596  10.40076601] 0.24130322780777833\n",
      "3000 [-15.36100912  -1.79394114  -3.63840883  12.7942367 ] 0.215608798138124\n",
      "4000 [-17.89496779  -2.01191968  -4.40078502  14.84932619] 0.19678626622267767\n",
      "5000 [-20.12312962  -2.20577442  -5.0641727   16.65729995] 0.18224763493044263\n",
      "6000 [-22.11355698  -2.38010899  -5.65216163  18.27197463] 0.17065959157189303\n",
      "Stop descent! iteration: 6204, weights: [-22.49301224  -2.41343975  -5.76381384  18.57970581], logloss: 0.1685880929323424\n"
     ]
    }
   ],
   "source": [
    "W = eval_model(X_st, y, alpha=0.6, tol=0.00001, verbose=True)"
   ]
  },
  {
   "cell_type": "markdown",
   "id": "alternative-boost",
   "metadata": {},
   "source": [
    "Подберем лучшие параметры $\\alpha$ для модели(поскольку функция сама отслеживает оптимальное количество итераций, то других параметров подбирать не нужно):"
   ]
  },
  {
   "cell_type": "code",
   "execution_count": 17,
   "id": "documented-kenya",
   "metadata": {},
   "outputs": [],
   "source": [
    "def get_best_params(X,y,args):\n",
    "    best_params=[]\n",
    "    for arg in args:\n",
    "        W,err,n_iter = eval_model(X, y, alpha=arg)\n",
    "        best_params.append((arg,err,n_iter))\n",
    "    best_params.sort(key=lambda x:x[1])\n",
    "    print(f'best - alpha: {best_params[0][0]},\\nresults:\\nerr: {best_params[0][1]},\\nn_iter: {best_params[0][2]}')\n",
    "    return best_params[0]"
   ]
  },
  {
   "cell_type": "code",
   "execution_count": 18,
   "id": "median-former",
   "metadata": {},
   "outputs": [
    {
     "name": "stdout",
     "output_type": "stream",
     "text": [
      "Stop descent! iteration: 4, weights: [-0.01512682 -1.44851808  0.75644797  1.06048112], logloss: 0.9360085439942413\n",
      "Stop descent! iteration: 6391, weights: [-20.79292735  -2.26433611  -5.26248927  17.20072759], logloss: 0.17820649249087708\n",
      "Stop descent! iteration: 5853, weights: [-8.53503588 -1.24557698 -1.51126618  7.32961021], logloss: 0.28385397215014774\n",
      "Stop descent! iteration: 6493, weights: [-6.18756485 -1.10137381 -0.7192765   5.56154533], logloss: 0.3198397227902269\n",
      "Stop descent! iteration: 6823, weights: [-2.01966427 -0.97319445  0.84001927  2.78391711], logloss: 0.43337113257078075\n",
      "Stop descent! iteration: 4134, weights: [-0.6636217  -0.82018794  1.11647506  1.7462896 ], logloss: 0.4980620278791868\n",
      "Stop descent! iteration: 3017, weights: [ 0.06153887 -0.68603638  0.85254687  1.2130508 ], logloss: 0.5558287097554773\n",
      "Stop descent! iteration: 3104, weights: [ 0.19306961 -0.69531514  0.74058514  1.21943805], logloss: 0.5765738129341405\n",
      "Stop descent! iteration: 6890, weights: [ 0.30486547 -0.64297726  0.65967984  1.27145631], logloss: 0.608860244923452\n",
      "Stop descent! iteration: 11196, weights: [ 0.32871646 -0.60814204  0.6497502   1.29299115], logloss: 0.6272419108714266\n",
      "Stop descent! iteration: 29779, weights: [ 0.39267294 -0.45708299  0.6408199   1.37066871], logloss: 0.7608933828168414\n",
      "Stop descent! iteration: 2, weights: [ 0.4967122  -0.13827022  0.64768844  1.52302697], logloss: 1.220065627789983\n",
      "Stop descent! iteration: 2, weights: [ 0.49671376 -0.13826548  0.64768852  1.52302928], logloss: 1.220065627789983\n",
      "Stop descent! iteration: 2, weights: [ 0.49671396 -0.13826489  0.64768853  1.52302957], logloss: 1.220065627789983\n",
      "Stop descent! iteration: 2, weights: [ 0.49671411 -0.13826442  0.64768854  1.5230298 ], logloss: 1.220065627789983\n",
      "best - alpha: 0.5,\n",
      "results:\n",
      "err: 0.17820649249087708,\n",
      "n_iter: 6391\n"
     ]
    },
    {
     "data": {
      "text/plain": [
       "(0.5, 0.17820649249087708, 6391)"
      ]
     },
     "execution_count": 18,
     "metadata": {},
     "output_type": "execute_result"
    }
   ],
   "source": [
    "alphas=[1, 0.5,0.1,0.05, 0.01, 0.005, 0.001, 0.0005, 0.0001, 0.00005, 0.00001, 0.000005, 0.000001, 0.0000005, 0.0000001]\n",
    "bp=get_best_params(X_st,y,alphas)\n",
    "bp"
   ]
  },
  {
   "cell_type": "markdown",
   "id": "personalized-oakland",
   "metadata": {},
   "source": [
    "Лучший результат получаем при $\\alpha=0.5$  \n",
    "попробуем подобрать $\\alpha$ из интервала $(1,0.1)$"
   ]
  },
  {
   "cell_type": "code",
   "execution_count": 19,
   "id": "composite-genome",
   "metadata": {},
   "outputs": [
    {
     "name": "stdout",
     "output_type": "stream",
     "text": [
      "Stop descent! iteration: 5853, weights: [-8.53503588 -1.24557698 -1.51126618  7.32961021], logloss: 0.28385397215014774\n",
      "Stop descent! iteration: 6187, weights: [-12.59825223  -1.5614873   -2.79460722  10.55999424], logloss: 0.23942165779557917\n",
      "Stop descent! iteration: 6534, weights: [-16.06978213  -1.85457135  -3.85261322  13.36879382], logloss: 0.21006752362747189\n",
      "Stop descent! iteration: 6535, weights: [-18.71799582  -2.08333293  -4.64651497  15.51714508], logloss: 0.19120600628315837\n",
      "Stop descent! iteration: 6391, weights: [-20.79292735  -2.26433611  -5.26248927  17.20072759], logloss: 0.17820649249087708\n",
      "Stop descent! iteration: 6204, weights: [-22.49301224  -2.41343975  -5.76381384  18.57970581], logloss: 0.1685880929323424\n",
      "Stop descent! iteration: 6, weights: [ 9.91945996e-04 -8.78773470e-01  8.74063808e-01  1.19348750e+00], logloss: 0.5868163760298956\n",
      "Stop descent! iteration: 4, weights: [ 0.06140228 -1.1126246   0.76192585  1.11769668], logloss: 0.6865501501467717\n",
      "Stop descent! iteration: 4, weights: [ 0.018576   -1.31433745  0.75285106  1.07760698], logloss: 0.8025549653255653\n",
      "best - alpha: 0.6,\n",
      "results:\n",
      "err: 0.1685880929323424,\n",
      "n_iter: 6204\n"
     ]
    },
    {
     "data": {
      "text/plain": [
       "(0.6, 0.1685880929323424, 6204)"
      ]
     },
     "execution_count": 19,
     "metadata": {},
     "output_type": "execute_result"
    }
   ],
   "source": [
    "alphas=np.arange(1,10)/10\n",
    "bp=get_best_params(X_st,y,alphas)\n",
    "bp"
   ]
  },
  {
   "cell_type": "markdown",
   "id": "growing-tribune",
   "metadata": {},
   "source": [
    "Лучший параметр скорости обучения для нашего примера $\\alpha=0.6$"
   ]
  },
  {
   "cell_type": "markdown",
   "id": "weird-secondary",
   "metadata": {},
   "source": [
    "**3.** Создайте функцию calc_pred_proba, возвращающую предсказанную вероятность класса 1 (на вход подаются W, который уже посчитан функцией eval_model и X, на выходе - массив y_pred_proba).  \n",
    "\n",
    "---"
   ]
  },
  {
   "cell_type": "code",
   "execution_count": 20,
   "id": "pleasant-entry",
   "metadata": {},
   "outputs": [],
   "source": [
    "def calc_pred_proba(w, x): \n",
    "    pred_proba = sigmoid(np.dot(w, x))\n",
    "    return pred_proba"
   ]
  },
  {
   "cell_type": "code",
   "execution_count": 22,
   "id": "center-accommodation",
   "metadata": {},
   "outputs": [
    {
     "name": "stdout",
     "output_type": "stream",
     "text": [
      "1000 [-8.650831   -1.25372329 -1.54901597  7.41955336] 0.28239658432599735\n",
      "2000 [-12.40065236  -1.54519184  -2.73360596  10.40076601] 0.24130322780777833\n",
      "3000 [-15.36100912  -1.79394114  -3.63840883  12.7942367 ] 0.215608798138124\n",
      "4000 [-17.89496779  -2.01191968  -4.40078502  14.84932619] 0.19678626622267767\n",
      "5000 [-20.12312962  -2.20577442  -5.0641727   16.65729995] 0.18224763493044263\n",
      "6000 [-22.11355698  -2.38010899  -5.65216163  18.27197463] 0.17065959157189303\n",
      "Stop descent! iteration: 6204, weights: [-22.49301224  -2.41343975  -5.76381384  18.57970581], logloss: 0.1685880929323424\n"
     ]
    }
   ],
   "source": [
    "W,_err,_it = eval_model(X_st, y, alpha=0.6, verbose=True)"
   ]
  },
  {
   "cell_type": "code",
   "execution_count": 23,
   "id": "detected-delay",
   "metadata": {},
   "outputs": [
    {
     "data": {
      "text/plain": [
       "array([0.33613789, 0.04486849, 0.99999633, 0.13361891, 0.85570148,\n",
       "       0.13784668, 0.99999968, 0.04426597, 0.47847259, 0.99992831])"
      ]
     },
     "execution_count": 23,
     "metadata": {},
     "output_type": "execute_result"
    }
   ],
   "source": [
    "y_pred_prob = calc_pred_proba(W, X_st)\n",
    "y_pred_prob"
   ]
  },
  {
   "cell_type": "markdown",
   "id": "rolled-surface",
   "metadata": {},
   "source": [
    "**4.** Создайте функцию calc_pred, возвращающую предсказанный класс (на вход подаются W, который уже посчитан функцией eval_model и X, на выходе - массив y_pred)."
   ]
  },
  {
   "cell_type": "code",
   "execution_count": 24,
   "id": "appropriate-vertical",
   "metadata": {},
   "outputs": [],
   "source": [
    "def calc_pred(w,x, prob_lim=0.5):    # установим порог вероятности, при превышении которого, объект будет относиться к классу 1\n",
    "    pred_proba = sigmoid(np.dot(w, x))\n",
    "    pred=np.zeros_like(pred_proba)\n",
    "    for idx, prob in enumerate(pred_proba):\n",
    "        if prob>prob_lim:\n",
    "            pred[idx]=1\n",
    "    return pred"
   ]
  },
  {
   "cell_type": "code",
   "execution_count": 25,
   "id": "actual-physiology",
   "metadata": {},
   "outputs": [
    {
     "data": {
      "text/plain": [
       "array([0., 0., 1., 0., 1., 0., 1., 0., 0., 1.])"
      ]
     },
     "execution_count": 25,
     "metadata": {},
     "output_type": "execute_result"
    }
   ],
   "source": [
    "y_pred=calc_pred(W, X_st)\n",
    "y_pred"
   ]
  },
  {
   "cell_type": "markdown",
   "id": "wicked-jones",
   "metadata": {},
   "source": [
    "**5.** Посчитайте Accuracy, матрицу ошибок, точность и полноту, а также F1 score.  \n",
    "\n",
    "---"
   ]
  },
  {
   "cell_type": "code",
   "execution_count": 26,
   "id": "proprietary-martin",
   "metadata": {},
   "outputs": [],
   "source": [
    "from sklearn.metrics import accuracy_score, confusion_matrix, recall_score, precision_score, f1_score"
   ]
  },
  {
   "cell_type": "markdown",
   "id": "foreign-broad",
   "metadata": {},
   "source": [
    "$\\displaystyle accuracy=\\frac{TP+TN}{TP+FP+TN+FN}$"
   ]
  },
  {
   "cell_type": "code",
   "execution_count": 27,
   "id": "italic-crossing",
   "metadata": {},
   "outputs": [],
   "source": [
    "def my_accuracy(real, pred):\n",
    "    all_res=len(real)\n",
    "    trues=0\n",
    "    for i in range(all_res):\n",
    "        trues+=int(real[i]==pred[i])\n",
    "    return trues/all_res\n",
    "        "
   ]
  },
  {
   "cell_type": "code",
   "execution_count": 28,
   "id": "later-burden",
   "metadata": {},
   "outputs": [
    {
     "data": {
      "text/plain": [
       "0.9"
      ]
     },
     "execution_count": 28,
     "metadata": {},
     "output_type": "execute_result"
    }
   ],
   "source": [
    "my_accuracy(y,y_pred)"
   ]
  },
  {
   "cell_type": "markdown",
   "id": "collected-comfort",
   "metadata": {},
   "source": [
    "Проверим:"
   ]
  },
  {
   "cell_type": "code",
   "execution_count": 29,
   "id": "agricultural-amount",
   "metadata": {},
   "outputs": [
    {
     "data": {
      "text/plain": [
       "0.9"
      ]
     },
     "execution_count": 29,
     "metadata": {},
     "output_type": "execute_result"
    }
   ],
   "source": [
    "accuracy_score(y,y_pred)"
   ]
  },
  {
   "cell_type": "markdown",
   "id": "plain-folder",
   "metadata": {},
   "source": [
    "|  <empty>   | $$y = +1$$ | $$y = -1$$ |\n",
    "--- | --- | ---\n",
    "| __$$a(x) = +1$$__  |   TP    |   FP   |\n",
    "| __$$a(x) = -1$$__ |   FN    |   TN   |"
   ]
  },
  {
   "cell_type": "code",
   "execution_count": 30,
   "id": "weird-scene",
   "metadata": {},
   "outputs": [],
   "source": [
    "def my_confusion_matrix(real, pred):\n",
    "    n_classes=len(np.unique(real))\n",
    "    all_res=len(real)\n",
    "    conf_matr=np.zeros((n_classes,n_classes), dtype='int')\n",
    "    for i in range(all_res):\n",
    "        conf_matr[int(real[i])][int(pred[i])] += 1\n",
    "    return conf_matr  \n",
    "    "
   ]
  },
  {
   "cell_type": "code",
   "execution_count": 31,
   "id": "objective-siemens",
   "metadata": {},
   "outputs": [
    {
     "data": {
      "text/plain": [
       "array([[5, 0],\n",
       "       [1, 4]])"
      ]
     },
     "execution_count": 31,
     "metadata": {},
     "output_type": "execute_result"
    }
   ],
   "source": [
    "my_confusion_matrix(y,y_pred)"
   ]
  },
  {
   "cell_type": "markdown",
   "id": "herbal-vertex",
   "metadata": {},
   "source": [
    "Проверим:"
   ]
  },
  {
   "cell_type": "code",
   "execution_count": 32,
   "id": "unusual-gospel",
   "metadata": {},
   "outputs": [
    {
     "data": {
      "text/plain": [
       "array([[5, 0],\n",
       "       [1, 4]], dtype=int64)"
      ]
     },
     "execution_count": 32,
     "metadata": {},
     "output_type": "execute_result"
    }
   ],
   "source": [
    "confusion_matrix(y,y_pred)"
   ]
  },
  {
   "cell_type": "markdown",
   "id": "african-production",
   "metadata": {},
   "source": [
    "$\\displaystyle precision=\\frac{TP}{TP+FP}$"
   ]
  },
  {
   "cell_type": "code",
   "execution_count": 33,
   "id": "lined-phone",
   "metadata": {},
   "outputs": [],
   "source": [
    "def my_precision(real, pred):\n",
    "    tn, fp, fn, tp = my_confusion_matrix(real, pred).ravel()\n",
    "    return tp/(tp+fp)\n",
    "    "
   ]
  },
  {
   "cell_type": "code",
   "execution_count": 34,
   "id": "similar-reception",
   "metadata": {},
   "outputs": [
    {
     "data": {
      "text/plain": [
       "1.0"
      ]
     },
     "execution_count": 34,
     "metadata": {},
     "output_type": "execute_result"
    }
   ],
   "source": [
    "my_precision(y,y_pred)"
   ]
  },
  {
   "cell_type": "markdown",
   "id": "touched-franklin",
   "metadata": {},
   "source": [
    "Проверка:"
   ]
  },
  {
   "cell_type": "code",
   "execution_count": 35,
   "id": "material-gender",
   "metadata": {},
   "outputs": [
    {
     "data": {
      "text/plain": [
       "1.0"
      ]
     },
     "execution_count": 35,
     "metadata": {},
     "output_type": "execute_result"
    }
   ],
   "source": [
    "precision_score(y,y_pred)"
   ]
  },
  {
   "cell_type": "markdown",
   "id": "collected-nightmare",
   "metadata": {},
   "source": [
    "$\\displaystyle recall=\\frac{TP}{TP+FN}$"
   ]
  },
  {
   "cell_type": "code",
   "execution_count": 36,
   "id": "vietnamese-scanning",
   "metadata": {},
   "outputs": [],
   "source": [
    "def my_recall(real, pred):\n",
    "    tn, fp, fn, tp = my_confusion_matrix(real, pred).ravel()\n",
    "    return tp/(tp+fn)"
   ]
  },
  {
   "cell_type": "code",
   "execution_count": 37,
   "id": "protected-anger",
   "metadata": {},
   "outputs": [
    {
     "data": {
      "text/plain": [
       "0.8"
      ]
     },
     "execution_count": 37,
     "metadata": {},
     "output_type": "execute_result"
    }
   ],
   "source": [
    "my_recall(y,y_pred)"
   ]
  },
  {
   "cell_type": "markdown",
   "id": "bizarre-morning",
   "metadata": {},
   "source": [
    "Проверка:"
   ]
  },
  {
   "cell_type": "code",
   "execution_count": 38,
   "id": "unusual-confidentiality",
   "metadata": {},
   "outputs": [
    {
     "data": {
      "text/plain": [
       "0.8"
      ]
     },
     "execution_count": 38,
     "metadata": {},
     "output_type": "execute_result"
    }
   ],
   "source": [
    "recall_score(y,y_pred)"
   ]
  },
  {
   "cell_type": "markdown",
   "id": "guided-biodiversity",
   "metadata": {},
   "source": [
    "$\\displaystyle F_1=(1+\\beta^2)\\frac{precision\\cdot recall}{\\beta^{2}\\cdot precision+recall}$"
   ]
  },
  {
   "cell_type": "code",
   "execution_count": 39,
   "id": "apart-weekly",
   "metadata": {},
   "outputs": [],
   "source": [
    "def my_f1(real, pred, beta=1):\n",
    "    return (1+beta**2)*my_precision(real, pred)*my_recall(y,y_pred)/(beta**2*my_precision(real, pred)+my_recall(y,y_pred))"
   ]
  },
  {
   "cell_type": "code",
   "execution_count": 40,
   "id": "bulgarian-supply",
   "metadata": {},
   "outputs": [
    {
     "data": {
      "text/plain": [
       "0.888888888888889"
      ]
     },
     "execution_count": 40,
     "metadata": {},
     "output_type": "execute_result"
    }
   ],
   "source": [
    "my_f1(y,y_pred)"
   ]
  },
  {
   "cell_type": "markdown",
   "id": "radio-timeline",
   "metadata": {},
   "source": [
    "Проверка:"
   ]
  },
  {
   "cell_type": "code",
   "execution_count": 41,
   "id": "convinced-mercy",
   "metadata": {},
   "outputs": [
    {
     "data": {
      "text/plain": [
       "0.888888888888889"
      ]
     },
     "execution_count": 41,
     "metadata": {},
     "output_type": "execute_result"
    }
   ],
   "source": [
    "f1_score(y,y_pred)"
   ]
  },
  {
   "cell_type": "markdown",
   "id": "religious-condition",
   "metadata": {},
   "source": [
    "**6.** Могла ли модель переобучиться? Почему?  \n",
    "\n",
    "---"
   ]
  },
  {
   "cell_type": "markdown",
   "id": "elder-economy",
   "metadata": {},
   "source": [
    "Модель логистической регрессии склонна к переобучению, в следствии того что мы используем сигмоиду для того, чтобы преобразовать в вероятность предсказания линейной модели. А т.к. сигмоида не имеет максимума и минимума, а только асимптоты в 0 и 1, градиентный спуск не может достичь оптимального решения с помощью градиентных шагов доводя веса до все более экстремальных значений, пытаясь достичь нулевых потерь. При большой размерности данных вероятность этого еще больше увеличивается. Поэтому в качестве способа регуляризации можно использовать ранний останов работы модели, а так же L1 и L2 регуляризацию. "
   ]
  },
  {
   "cell_type": "markdown",
   "id": "charged-ridge",
   "metadata": {},
   "source": [
    "__7*.__ Создайте функции eval_model_l1 и eval_model_l2 с применением L1 и L2 регуляризаций соответственно.  \n",
    "\n",
    "---"
   ]
  },
  {
   "cell_type": "markdown",
   "id": "graphic-acceptance",
   "metadata": {},
   "source": [
    "Функции для расчёта норм векторов:"
   ]
  },
  {
   "cell_type": "code",
   "execution_count": 42,
   "id": "handmade-medium",
   "metadata": {},
   "outputs": [],
   "source": [
    "def euclid(vec):\n",
    "    norm=0\n",
    "    for i in vec:\n",
    "        norm+=i**2\n",
    "    return norm**0.5\n",
    "\n",
    "def manhattan(vec):\n",
    "    norm=0\n",
    "    for i in vec:\n",
    "        norm+=i if i>0 else -i\n",
    "    return norm"
   ]
  },
  {
   "cell_type": "markdown",
   "id": "false-johnson",
   "metadata": {},
   "source": [
    "Добавим возможность сразу выбирать тип регуляризации L1 или L2"
   ]
  },
  {
   "cell_type": "code",
   "execution_count": 43,
   "id": "medium-break",
   "metadata": {},
   "outputs": [],
   "source": [
    "def eval_model_1(X, y, verbose=False, alpha=1e-4, tol=0.00001, penalty=None, lambda_=0.0): \n",
    "    view_ind = 10**(-np.log10(tol)-2) if -np.log10(tol)-2>=1 else 1 # задаём параметр кратности вывода промежуточных результатов\n",
    "    np.random.seed(42)\n",
    "    W = np.random.randn(X.shape[0])\n",
    "    n = X.shape[1]\n",
    "    min_err = float('inf')  #начальное значение ошибки модели - бесконечность\n",
    "    n_iter = 0  # отслеживаем количество итераций\n",
    "    stop_chek = True\n",
    "    errors = []  # добавлено для визуализации кривой обучения\n",
    "    if penalty=='L1': # учитываем тип регуляризации\n",
    "        reg_elem=manhattan\n",
    "    elif penalty=='L2':\n",
    "        reg_elem=euclid\n",
    "    else:\n",
    "        reg_elem=lambda x: 0\n",
    "    while stop_chek:\n",
    "        n_iter += 1\n",
    "        z = np.dot(W, X)\n",
    "        y_pred = sigmoid(z)\n",
    "        err = calc_logloss_mod(y, y_pred)+lambda_*reg_elem(W)  # добавляем в расчет ошибки выбранный фактор регуляризации\n",
    "        errors.append(err)\n",
    "        if min_err - err > tol:  # контролируем текущее значение ошибки\n",
    "            min_err = err\n",
    "        else:  # если снижение прекратилось, останавливаемся.\n",
    "            print(\n",
    "                f'Stop descent! iteration: {n_iter}, weights: {W}, logloss: {min_err}')\n",
    "            stop_chek = False\n",
    "        W -= alpha * (1/n * np.dot((y_pred - y), X.T))\n",
    "        if verbose:\n",
    "            if n_iter % view_ind == 0:\n",
    "                print(n_iter, W, err)\n",
    "    return W, min_err, n_iter"
   ]
  },
  {
   "cell_type": "code",
   "execution_count": null,
   "id": "gothic-running",
   "metadata": {},
   "outputs": [],
   "source": []
  }
 ],
 "metadata": {
  "kernelspec": {
   "display_name": "Python 3",
   "language": "python",
   "name": "python3"
  },
  "language_info": {
   "codemirror_mode": {
    "name": "ipython",
    "version": 3
   },
   "file_extension": ".py",
   "mimetype": "text/x-python",
   "name": "python",
   "nbconvert_exporter": "python",
   "pygments_lexer": "ipython3",
   "version": "3.8.5"
  }
 },
 "nbformat": 4,
 "nbformat_minor": 5
}
